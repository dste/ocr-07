{
  "cells": [
    {
      "cell_type": "markdown",
      "metadata": {
        "id": "view-in-github",
        "colab_type": "text"
      },
      "source": [
        "<a href=\"https://colab.research.google.com/github/dste/ocr-07/blob/main/07_bad_buzz.ipynb\" target=\"_parent\"><img src=\"https://colab.research.google.com/assets/colab-badge.svg\" alt=\"Open In Colab\"/></a>"
      ]
    },
    {
      "cell_type": "code",
      "execution_count": null,
      "metadata": {
        "colab": {
          "base_uri": "https://localhost:8080/"
        },
        "id": "iG-eebk58E3b",
        "outputId": "d832aad8-a754-4354-ece3-a2bbb35e3967"
      },
      "outputs": [
        {
          "output_type": "stream",
          "name": "stdout",
          "text": [
            "Looking in indexes: https://pypi.org/simple, https://us-python.pkg.dev/colab-wheels/public/simple/\n",
            "Requirement already satisfied: gensim in /usr/local/lib/python3.7/dist-packages (4.2.0)\n",
            "Requirement already satisfied: numpy>=1.17.0 in /usr/local/lib/python3.7/dist-packages (from gensim) (1.21.6)\n",
            "Requirement already satisfied: smart-open>=1.8.1 in /usr/local/lib/python3.7/dist-packages (from gensim) (5.2.1)\n",
            "Requirement already satisfied: scipy>=0.18.1 in /usr/local/lib/python3.7/dist-packages (from gensim) (1.7.3)\n",
            "\u001b[38;5;2m✔ Download and installation successful\u001b[0m\n",
            "You can now load the package via spacy.load('en_core_web_lg')\n"
          ]
        }
      ],
      "source": [
        "! pip install --upgrade gensim\n",
        "\n",
        "import spacy.cli\n",
        "spacy.cli.download(\"en_core_web_lg\")"
      ]
    },
    {
      "cell_type": "code",
      "execution_count": null,
      "metadata": {
        "id": "CXrHb3D3Aobe"
      },
      "outputs": [],
      "source": [
        "import pandas as pd\n",
        "import numpy as np\n",
        "from sklearn.model_selection import train_test_split\n",
        "\n",
        "import spacy\n",
        "if (False):\n",
        "    spacy.require_gpu()\n",
        "\n",
        "from nltk.stem.snowball import SnowballStemmer\n",
        "\n",
        "from gensim.models import Word2Vec\n",
        "from gensim.models import KeyedVectors\n",
        "\n",
        "from sklearn.linear_model import LogisticRegression\n",
        "from sklearn.feature_extraction.text import TfidfVectorizer\n",
        "from sklearn.pipeline import Pipeline\n",
        "from sklearn.model_selection import GridSearchCV\n",
        "from sklearn.metrics import accuracy_score, roc_auc_score, roc_curve\n",
        "from sklearn.metrics import accuracy_score, roc_auc_score, roc_curve\n",
        "\n",
        "import tensorflow as tf\n",
        "from tensorflow.keras import Sequential\n",
        "from tensorflow.keras.layers import InputLayer, TextVectorization, Embedding, GlobalAveragePooling1D, Dense, Dropout\n",
        "\n",
        "from tqdm.notebook import tqdm\n",
        "import matplotlib.pyplot as plt\n",
        "\n",
        "import multiprocessing\n",
        "import gc\n",
        "\n",
        "root = '/content/drive/My Drive/Ocr/07'"
      ]
    },
    {
      "cell_type": "markdown",
      "metadata": {
        "id": "U6jUWifm-RHe"
      },
      "source": [
        "# Analyse exploratoire"
      ]
    },
    {
      "cell_type": "code",
      "execution_count": null,
      "metadata": {
        "colab": {
          "base_uri": "https://localhost:8080/",
          "height": 206
        },
        "id": "Qz87Fl41E5Dw",
        "outputId": "3f851b88-8e58-4486-cae0-f536fd0fc70b"
      },
      "outputs": [
        {
          "output_type": "execute_result",
          "data": {
            "text/plain": [
              "                                               tweet  sentiment\n",
              "0  @switchfoot http://twitpic.com/2y1zl - Awww, t...          0\n",
              "1  is upset that he can't update his Facebook by ...          0\n",
              "2  @Kenichan I dived many times for the ball. Man...          0\n",
              "3    my whole body feels itchy and like its on fire           0\n",
              "4  @nationwideclass no, it's not behaving at all....          0"
            ],
            "text/html": [
              "\n",
              "  <div id=\"df-2e38fda3-8d67-433d-b9be-6ef74817a682\">\n",
              "    <div class=\"colab-df-container\">\n",
              "      <div>\n",
              "<style scoped>\n",
              "    .dataframe tbody tr th:only-of-type {\n",
              "        vertical-align: middle;\n",
              "    }\n",
              "\n",
              "    .dataframe tbody tr th {\n",
              "        vertical-align: top;\n",
              "    }\n",
              "\n",
              "    .dataframe thead th {\n",
              "        text-align: right;\n",
              "    }\n",
              "</style>\n",
              "<table border=\"1\" class=\"dataframe\">\n",
              "  <thead>\n",
              "    <tr style=\"text-align: right;\">\n",
              "      <th></th>\n",
              "      <th>tweet</th>\n",
              "      <th>sentiment</th>\n",
              "    </tr>\n",
              "  </thead>\n",
              "  <tbody>\n",
              "    <tr>\n",
              "      <th>0</th>\n",
              "      <td>@switchfoot http://twitpic.com/2y1zl - Awww, t...</td>\n",
              "      <td>0</td>\n",
              "    </tr>\n",
              "    <tr>\n",
              "      <th>1</th>\n",
              "      <td>is upset that he can't update his Facebook by ...</td>\n",
              "      <td>0</td>\n",
              "    </tr>\n",
              "    <tr>\n",
              "      <th>2</th>\n",
              "      <td>@Kenichan I dived many times for the ball. Man...</td>\n",
              "      <td>0</td>\n",
              "    </tr>\n",
              "    <tr>\n",
              "      <th>3</th>\n",
              "      <td>my whole body feels itchy and like its on fire</td>\n",
              "      <td>0</td>\n",
              "    </tr>\n",
              "    <tr>\n",
              "      <th>4</th>\n",
              "      <td>@nationwideclass no, it's not behaving at all....</td>\n",
              "      <td>0</td>\n",
              "    </tr>\n",
              "  </tbody>\n",
              "</table>\n",
              "</div>\n",
              "      <button class=\"colab-df-convert\" onclick=\"convertToInteractive('df-2e38fda3-8d67-433d-b9be-6ef74817a682')\"\n",
              "              title=\"Convert this dataframe to an interactive table.\"\n",
              "              style=\"display:none;\">\n",
              "        \n",
              "  <svg xmlns=\"http://www.w3.org/2000/svg\" height=\"24px\"viewBox=\"0 0 24 24\"\n",
              "       width=\"24px\">\n",
              "    <path d=\"M0 0h24v24H0V0z\" fill=\"none\"/>\n",
              "    <path d=\"M18.56 5.44l.94 2.06.94-2.06 2.06-.94-2.06-.94-.94-2.06-.94 2.06-2.06.94zm-11 1L8.5 8.5l.94-2.06 2.06-.94-2.06-.94L8.5 2.5l-.94 2.06-2.06.94zm10 10l.94 2.06.94-2.06 2.06-.94-2.06-.94-.94-2.06-.94 2.06-2.06.94z\"/><path d=\"M17.41 7.96l-1.37-1.37c-.4-.4-.92-.59-1.43-.59-.52 0-1.04.2-1.43.59L10.3 9.45l-7.72 7.72c-.78.78-.78 2.05 0 2.83L4 21.41c.39.39.9.59 1.41.59.51 0 1.02-.2 1.41-.59l7.78-7.78 2.81-2.81c.8-.78.8-2.07 0-2.86zM5.41 20L4 18.59l7.72-7.72 1.47 1.35L5.41 20z\"/>\n",
              "  </svg>\n",
              "      </button>\n",
              "      \n",
              "  <style>\n",
              "    .colab-df-container {\n",
              "      display:flex;\n",
              "      flex-wrap:wrap;\n",
              "      gap: 12px;\n",
              "    }\n",
              "\n",
              "    .colab-df-convert {\n",
              "      background-color: #E8F0FE;\n",
              "      border: none;\n",
              "      border-radius: 50%;\n",
              "      cursor: pointer;\n",
              "      display: none;\n",
              "      fill: #1967D2;\n",
              "      height: 32px;\n",
              "      padding: 0 0 0 0;\n",
              "      width: 32px;\n",
              "    }\n",
              "\n",
              "    .colab-df-convert:hover {\n",
              "      background-color: #E2EBFA;\n",
              "      box-shadow: 0px 1px 2px rgba(60, 64, 67, 0.3), 0px 1px 3px 1px rgba(60, 64, 67, 0.15);\n",
              "      fill: #174EA6;\n",
              "    }\n",
              "\n",
              "    [theme=dark] .colab-df-convert {\n",
              "      background-color: #3B4455;\n",
              "      fill: #D2E3FC;\n",
              "    }\n",
              "\n",
              "    [theme=dark] .colab-df-convert:hover {\n",
              "      background-color: #434B5C;\n",
              "      box-shadow: 0px 1px 3px 1px rgba(0, 0, 0, 0.15);\n",
              "      filter: drop-shadow(0px 1px 2px rgba(0, 0, 0, 0.3));\n",
              "      fill: #FFFFFF;\n",
              "    }\n",
              "  </style>\n",
              "\n",
              "      <script>\n",
              "        const buttonEl =\n",
              "          document.querySelector('#df-2e38fda3-8d67-433d-b9be-6ef74817a682 button.colab-df-convert');\n",
              "        buttonEl.style.display =\n",
              "          google.colab.kernel.accessAllowed ? 'block' : 'none';\n",
              "\n",
              "        async function convertToInteractive(key) {\n",
              "          const element = document.querySelector('#df-2e38fda3-8d67-433d-b9be-6ef74817a682');\n",
              "          const dataTable =\n",
              "            await google.colab.kernel.invokeFunction('convertToInteractive',\n",
              "                                                     [key], {});\n",
              "          if (!dataTable) return;\n",
              "\n",
              "          const docLinkHtml = 'Like what you see? Visit the ' +\n",
              "            '<a target=\"_blank\" href=https://colab.research.google.com/notebooks/data_table.ipynb>data table notebook</a>'\n",
              "            + ' to learn more about interactive tables.';\n",
              "          element.innerHTML = '';\n",
              "          dataTable['output_type'] = 'display_data';\n",
              "          await google.colab.output.renderOutput(dataTable, element);\n",
              "          const docLink = document.createElement('div');\n",
              "          docLink.innerHTML = docLinkHtml;\n",
              "          element.appendChild(docLink);\n",
              "        }\n",
              "      </script>\n",
              "    </div>\n",
              "  </div>\n",
              "  "
            ]
          },
          "metadata": {},
          "execution_count": 4
        }
      ],
      "source": [
        "df = pd.read_csv(root+'/Datasets/tweet.csv', encoding='latin1', header=None, usecols=[0, 5])[[5, 0]].rename(columns={5:'tweet', 0:'sentiment'})\n",
        "df.head()"
      ]
    },
    {
      "cell_type": "markdown",
      "metadata": {
        "id": "55sd4fSOR4fM"
      },
      "source": [
        "le dataset est équilibré, complé et trié"
      ]
    },
    {
      "cell_type": "code",
      "execution_count": null,
      "metadata": {
        "colab": {
          "base_uri": "https://localhost:8080/"
        },
        "id": "70Deh787RacQ",
        "outputId": "a8c1edd5-803f-4d67-c1c7-bda736eb9803"
      },
      "outputs": [
        {
          "output_type": "stream",
          "name": "stdout",
          "text": [
            "<class 'pandas.core.frame.DataFrame'>\n",
            "RangeIndex: 1600000 entries, 0 to 1599999\n",
            "Data columns (total 2 columns):\n",
            " #   Column     Non-Null Count    Dtype \n",
            "---  ------     --------------    ----- \n",
            " 0   tweet      1600000 non-null  object\n",
            " 1   sentiment  1600000 non-null  int64 \n",
            "dtypes: int64(1), object(1)\n",
            "memory usage: 24.4+ MB\n"
          ]
        }
      ],
      "source": [
        "df.info()"
      ]
    },
    {
      "cell_type": "code",
      "execution_count": null,
      "metadata": {
        "colab": {
          "base_uri": "https://localhost:8080/"
        },
        "id": "EqA7-urOSEFg",
        "outputId": "46e08199-94db-473a-a82e-a6ea6b7f9d1e"
      },
      "outputs": [
        {
          "output_type": "execute_result",
          "data": {
            "text/plain": [
              "0    800000\n",
              "4    800000\n",
              "Name: sentiment, dtype: int64"
            ]
          },
          "metadata": {},
          "execution_count": 6
        }
      ],
      "source": [
        "df.sentiment.value_counts()"
      ]
    },
    {
      "cell_type": "code",
      "execution_count": null,
      "metadata": {
        "colab": {
          "base_uri": "https://localhost:8080/"
        },
        "id": "tolXTSZW9Xv3",
        "outputId": "dd34f698-071d-4721-bc8d-9a8a1c9f73ce"
      },
      "outputs": [
        {
          "output_type": "execute_result",
          "data": {
            "text/plain": [
              "0    8000\n",
              "4    8000\n",
              "Name: sentiment, dtype: int64"
            ]
          },
          "metadata": {},
          "execution_count": 7
        }
      ],
      "source": [
        "df = df.groupby('sentiment').sample(frac=0.01, random_state=0)\n",
        "df.sentiment.value_counts()"
      ]
    },
    {
      "cell_type": "code",
      "execution_count": null,
      "metadata": {
        "colab": {
          "base_uri": "https://localhost:8080/"
        },
        "id": "iTecHA0A9cK0",
        "outputId": "0f83b6ef-dc65-4579-f334-ed34627e25ac"
      },
      "outputs": [
        {
          "output_type": "execute_result",
          "data": {
            "text/plain": [
              "0    8000\n",
              "4    8000\n",
              "Name: sentiment, dtype: int64"
            ]
          },
          "metadata": {},
          "execution_count": 8
        }
      ],
      "source": [
        "df.head(80000).sentiment.value_counts()"
      ]
    },
    {
      "cell_type": "code",
      "execution_count": null,
      "metadata": {
        "colab": {
          "base_uri": "https://localhost:8080/",
          "height": 332,
          "referenced_widgets": [
            "0d945b4a0d1b4774ad9e037dceb3c23c",
            "4ca0956f2bd44b949030066f1e239f8c",
            "fa5e62d5a6014e5b97bc7b47de69e35b",
            "e8febbda21c54fdd8161f28a0b6dcd83",
            "96bcf826bdd64da180d0a88a4d11aca3",
            "009b09220ba943798f1cd2d868681b25",
            "9f856fc74156483791a51769e3e4f36f",
            "4dcda27a2200451ba7ac671ff3c356c3",
            "3f0d0f841eb4442a9b03d6ae1b2ea2c3",
            "22212242b1f5445e994abf0d017195c5",
            "deee99197a04420a939e94a3530df7e2"
          ]
        },
        "id": "U8u2-dg6V1pS",
        "outputId": "e3784340-2515-47b8-dc80-a2d2b3615309"
      },
      "outputs": [
        {
          "output_type": "display_data",
          "data": {
            "text/plain": [
              "  0%|          | 0/16000 [00:00<?, ?it/s]"
            ],
            "application/vnd.jupyter.widget-view+json": {
              "version_major": 2,
              "version_minor": 0,
              "model_id": "0d945b4a0d1b4774ad9e037dceb3c23c"
            }
          },
          "metadata": {}
        },
        {
          "output_type": "execute_result",
          "data": {
            "text/plain": [
              "               case         punct         space          stop           num  \\\n",
              "count  16000.000000  16000.000000  16000.000000  16000.000000  16000.000000   \n",
              "mean       4.869375      2.133688      0.406938      6.747187      0.187812   \n",
              "std        3.918804      2.160783      0.626489      4.517817      0.500804   \n",
              "min        0.000000      0.000000      0.000000      0.000000      0.000000   \n",
              "25%        2.000000      1.000000      0.000000      3.000000      0.000000   \n",
              "50%        4.000000      2.000000      0.000000      6.000000      0.000000   \n",
              "75%        7.000000      3.000000      1.000000     10.000000      0.000000   \n",
              "max       68.000000     62.000000     18.000000     25.000000      8.000000   \n",
              "\n",
              "                url         email      currency             #             @  \\\n",
              "count  16000.000000  16000.000000  16000.000000  16000.000000  16000.000000   \n",
              "mean       0.055688      0.000375      0.004063      0.033938      0.497437   \n",
              "std        0.242312      0.019362      0.079350      0.520507      0.589398   \n",
              "min        0.000000      0.000000      0.000000      0.000000      0.000000   \n",
              "25%        0.000000      0.000000      0.000000      0.000000      0.000000   \n",
              "50%        0.000000      0.000000      0.000000      0.000000      0.000000   \n",
              "75%        0.000000      0.000000      0.000000      0.000000      1.000000   \n",
              "max        4.000000      1.000000      3.000000     58.000000      9.000000   \n",
              "\n",
              "                oov  \n",
              "count  16000.000000  \n",
              "mean       1.341938  \n",
              "std        1.289669  \n",
              "min        0.000000  \n",
              "25%        0.000000  \n",
              "50%        1.000000  \n",
              "75%        2.000000  \n",
              "max       19.000000  "
            ],
            "text/html": [
              "\n",
              "  <div id=\"df-e54f779a-b99b-438e-8e65-8eeddd92a8a9\">\n",
              "    <div class=\"colab-df-container\">\n",
              "      <div>\n",
              "<style scoped>\n",
              "    .dataframe tbody tr th:only-of-type {\n",
              "        vertical-align: middle;\n",
              "    }\n",
              "\n",
              "    .dataframe tbody tr th {\n",
              "        vertical-align: top;\n",
              "    }\n",
              "\n",
              "    .dataframe thead th {\n",
              "        text-align: right;\n",
              "    }\n",
              "</style>\n",
              "<table border=\"1\" class=\"dataframe\">\n",
              "  <thead>\n",
              "    <tr style=\"text-align: right;\">\n",
              "      <th></th>\n",
              "      <th>case</th>\n",
              "      <th>punct</th>\n",
              "      <th>space</th>\n",
              "      <th>stop</th>\n",
              "      <th>num</th>\n",
              "      <th>url</th>\n",
              "      <th>email</th>\n",
              "      <th>currency</th>\n",
              "      <th>#</th>\n",
              "      <th>@</th>\n",
              "      <th>oov</th>\n",
              "    </tr>\n",
              "  </thead>\n",
              "  <tbody>\n",
              "    <tr>\n",
              "      <th>count</th>\n",
              "      <td>16000.000000</td>\n",
              "      <td>16000.000000</td>\n",
              "      <td>16000.000000</td>\n",
              "      <td>16000.000000</td>\n",
              "      <td>16000.000000</td>\n",
              "      <td>16000.000000</td>\n",
              "      <td>16000.000000</td>\n",
              "      <td>16000.000000</td>\n",
              "      <td>16000.000000</td>\n",
              "      <td>16000.000000</td>\n",
              "      <td>16000.000000</td>\n",
              "    </tr>\n",
              "    <tr>\n",
              "      <th>mean</th>\n",
              "      <td>4.869375</td>\n",
              "      <td>2.133688</td>\n",
              "      <td>0.406938</td>\n",
              "      <td>6.747187</td>\n",
              "      <td>0.187812</td>\n",
              "      <td>0.055688</td>\n",
              "      <td>0.000375</td>\n",
              "      <td>0.004063</td>\n",
              "      <td>0.033938</td>\n",
              "      <td>0.497437</td>\n",
              "      <td>1.341938</td>\n",
              "    </tr>\n",
              "    <tr>\n",
              "      <th>std</th>\n",
              "      <td>3.918804</td>\n",
              "      <td>2.160783</td>\n",
              "      <td>0.626489</td>\n",
              "      <td>4.517817</td>\n",
              "      <td>0.500804</td>\n",
              "      <td>0.242312</td>\n",
              "      <td>0.019362</td>\n",
              "      <td>0.079350</td>\n",
              "      <td>0.520507</td>\n",
              "      <td>0.589398</td>\n",
              "      <td>1.289669</td>\n",
              "    </tr>\n",
              "    <tr>\n",
              "      <th>min</th>\n",
              "      <td>0.000000</td>\n",
              "      <td>0.000000</td>\n",
              "      <td>0.000000</td>\n",
              "      <td>0.000000</td>\n",
              "      <td>0.000000</td>\n",
              "      <td>0.000000</td>\n",
              "      <td>0.000000</td>\n",
              "      <td>0.000000</td>\n",
              "      <td>0.000000</td>\n",
              "      <td>0.000000</td>\n",
              "      <td>0.000000</td>\n",
              "    </tr>\n",
              "    <tr>\n",
              "      <th>25%</th>\n",
              "      <td>2.000000</td>\n",
              "      <td>1.000000</td>\n",
              "      <td>0.000000</td>\n",
              "      <td>3.000000</td>\n",
              "      <td>0.000000</td>\n",
              "      <td>0.000000</td>\n",
              "      <td>0.000000</td>\n",
              "      <td>0.000000</td>\n",
              "      <td>0.000000</td>\n",
              "      <td>0.000000</td>\n",
              "      <td>0.000000</td>\n",
              "    </tr>\n",
              "    <tr>\n",
              "      <th>50%</th>\n",
              "      <td>4.000000</td>\n",
              "      <td>2.000000</td>\n",
              "      <td>0.000000</td>\n",
              "      <td>6.000000</td>\n",
              "      <td>0.000000</td>\n",
              "      <td>0.000000</td>\n",
              "      <td>0.000000</td>\n",
              "      <td>0.000000</td>\n",
              "      <td>0.000000</td>\n",
              "      <td>0.000000</td>\n",
              "      <td>1.000000</td>\n",
              "    </tr>\n",
              "    <tr>\n",
              "      <th>75%</th>\n",
              "      <td>7.000000</td>\n",
              "      <td>3.000000</td>\n",
              "      <td>1.000000</td>\n",
              "      <td>10.000000</td>\n",
              "      <td>0.000000</td>\n",
              "      <td>0.000000</td>\n",
              "      <td>0.000000</td>\n",
              "      <td>0.000000</td>\n",
              "      <td>0.000000</td>\n",
              "      <td>1.000000</td>\n",
              "      <td>2.000000</td>\n",
              "    </tr>\n",
              "    <tr>\n",
              "      <th>max</th>\n",
              "      <td>68.000000</td>\n",
              "      <td>62.000000</td>\n",
              "      <td>18.000000</td>\n",
              "      <td>25.000000</td>\n",
              "      <td>8.000000</td>\n",
              "      <td>4.000000</td>\n",
              "      <td>1.000000</td>\n",
              "      <td>3.000000</td>\n",
              "      <td>58.000000</td>\n",
              "      <td>9.000000</td>\n",
              "      <td>19.000000</td>\n",
              "    </tr>\n",
              "  </tbody>\n",
              "</table>\n",
              "</div>\n",
              "      <button class=\"colab-df-convert\" onclick=\"convertToInteractive('df-e54f779a-b99b-438e-8e65-8eeddd92a8a9')\"\n",
              "              title=\"Convert this dataframe to an interactive table.\"\n",
              "              style=\"display:none;\">\n",
              "        \n",
              "  <svg xmlns=\"http://www.w3.org/2000/svg\" height=\"24px\"viewBox=\"0 0 24 24\"\n",
              "       width=\"24px\">\n",
              "    <path d=\"M0 0h24v24H0V0z\" fill=\"none\"/>\n",
              "    <path d=\"M18.56 5.44l.94 2.06.94-2.06 2.06-.94-2.06-.94-.94-2.06-.94 2.06-2.06.94zm-11 1L8.5 8.5l.94-2.06 2.06-.94-2.06-.94L8.5 2.5l-.94 2.06-2.06.94zm10 10l.94 2.06.94-2.06 2.06-.94-2.06-.94-.94-2.06-.94 2.06-2.06.94z\"/><path d=\"M17.41 7.96l-1.37-1.37c-.4-.4-.92-.59-1.43-.59-.52 0-1.04.2-1.43.59L10.3 9.45l-7.72 7.72c-.78.78-.78 2.05 0 2.83L4 21.41c.39.39.9.59 1.41.59.51 0 1.02-.2 1.41-.59l7.78-7.78 2.81-2.81c.8-.78.8-2.07 0-2.86zM5.41 20L4 18.59l7.72-7.72 1.47 1.35L5.41 20z\"/>\n",
              "  </svg>\n",
              "      </button>\n",
              "      \n",
              "  <style>\n",
              "    .colab-df-container {\n",
              "      display:flex;\n",
              "      flex-wrap:wrap;\n",
              "      gap: 12px;\n",
              "    }\n",
              "\n",
              "    .colab-df-convert {\n",
              "      background-color: #E8F0FE;\n",
              "      border: none;\n",
              "      border-radius: 50%;\n",
              "      cursor: pointer;\n",
              "      display: none;\n",
              "      fill: #1967D2;\n",
              "      height: 32px;\n",
              "      padding: 0 0 0 0;\n",
              "      width: 32px;\n",
              "    }\n",
              "\n",
              "    .colab-df-convert:hover {\n",
              "      background-color: #E2EBFA;\n",
              "      box-shadow: 0px 1px 2px rgba(60, 64, 67, 0.3), 0px 1px 3px 1px rgba(60, 64, 67, 0.15);\n",
              "      fill: #174EA6;\n",
              "    }\n",
              "\n",
              "    [theme=dark] .colab-df-convert {\n",
              "      background-color: #3B4455;\n",
              "      fill: #D2E3FC;\n",
              "    }\n",
              "\n",
              "    [theme=dark] .colab-df-convert:hover {\n",
              "      background-color: #434B5C;\n",
              "      box-shadow: 0px 1px 3px 1px rgba(0, 0, 0, 0.15);\n",
              "      filter: drop-shadow(0px 1px 2px rgba(0, 0, 0, 0.3));\n",
              "      fill: #FFFFFF;\n",
              "    }\n",
              "  </style>\n",
              "\n",
              "      <script>\n",
              "        const buttonEl =\n",
              "          document.querySelector('#df-e54f779a-b99b-438e-8e65-8eeddd92a8a9 button.colab-df-convert');\n",
              "        buttonEl.style.display =\n",
              "          google.colab.kernel.accessAllowed ? 'block' : 'none';\n",
              "\n",
              "        async function convertToInteractive(key) {\n",
              "          const element = document.querySelector('#df-e54f779a-b99b-438e-8e65-8eeddd92a8a9');\n",
              "          const dataTable =\n",
              "            await google.colab.kernel.invokeFunction('convertToInteractive',\n",
              "                                                     [key], {});\n",
              "          if (!dataTable) return;\n",
              "\n",
              "          const docLinkHtml = 'Like what you see? Visit the ' +\n",
              "            '<a target=\"_blank\" href=https://colab.research.google.com/notebooks/data_table.ipynb>data table notebook</a>'\n",
              "            + ' to learn more about interactive tables.';\n",
              "          element.innerHTML = '';\n",
              "          dataTable['output_type'] = 'display_data';\n",
              "          await google.colab.output.renderOutput(dataTable, element);\n",
              "          const docLink = document.createElement('div');\n",
              "          docLink.innerHTML = docLinkHtml;\n",
              "          element.appendChild(docLink);\n",
              "        }\n",
              "      </script>\n",
              "    </div>\n",
              "  </div>\n",
              "  "
            ]
          },
          "metadata": {},
          "execution_count": 9
        }
      ],
      "source": [
        "oov = []\n",
        "stats = []\n",
        "nlp = spacy.load(\"en_core_web_lg\")\n",
        "for tweet in nlp.pipe(tqdm(df.tweet.values)):\n",
        "  stat = {'case':0, 'punct':0, 'space':0, 'stop':0, 'num':0, 'url':0, 'email':0, 'currency':0, '#':0, '@':0, 'oov':0}\n",
        "  for token in tweet:\n",
        "    if not token.is_lower :\n",
        "      stat['case'] = stat['case'] + 1\n",
        "    if token.is_punct :\n",
        "      stat['punct'] = stat['punct'] + 1\n",
        "    if token.is_space :\n",
        "      stat['space'] = stat['space'] + 1\n",
        "    if token.is_stop :\n",
        "      stat['stop'] = stat['stop'] + 1\n",
        "    if token.like_num :\n",
        "      stat['num'] = stat['num'] + 1\n",
        "    if token.like_url :\n",
        "      stat['url'] = stat['url'] + 1\n",
        "    if token.like_email :\n",
        "      stat['email'] = stat['email'] + 1\n",
        "    if token.is_currency :\n",
        "      stat['currency'] = stat['currency'] + 1\n",
        "    if token.text.startswith('#') :\n",
        "      stat['#'] = stat['#'] + 1\n",
        "    if token.text.startswith('@') :\n",
        "      stat['@'] = stat['@'] + 1\n",
        "    if token.is_oov :\n",
        "      stat['oov'] = stat['oov'] + 1 #erreur : email, currency, startswith('@') are count as oov\n",
        "      oov.append(token.text)\n",
        "  stats.append(stat)\n",
        "pd.DataFrame(stats).describe()"
      ]
    },
    {
      "cell_type": "code",
      "source": [
        "del oov, stat, stats, token, tweet"
      ],
      "metadata": {
        "id": "k7OGW9qe3DDW"
      },
      "execution_count": null,
      "outputs": []
    },
    {
      "cell_type": "markdown",
      "metadata": {
        "id": "zrvT5YTL-IHm"
      },
      "source": [
        "# modéle simplifié"
      ]
    },
    {
      "cell_type": "code",
      "source": [
        "all_tokenized_tweet = []\n",
        "nlp = spacy.load(\"en_core_web_lg\")\n",
        "snb = SnowballStemmer(language='english')\n",
        "for tweet in nlp.pipe(tqdm(df.tweet.values)):\n",
        "  tokenized_tweet = list(map(list, zip(*[\n",
        "      (token.lower_.strip(), snb.stem(token.lower_).strip(), token.lemma_.strip().lower()) for token in tweet\n",
        "        if  not token.is_punct\n",
        "        and not token.is_stop\n",
        "        and not token.is_space\n",
        "        and not token.like_num\n",
        "        and not token.like_url\n",
        "        and not token.like_email\n",
        "        and not token.text.startswith('#') #keep and clean ?\n",
        "        and not token.text.startswith('@')\n",
        "        and not len(token.text.strip())<=1])))\n",
        "  all_tokenized_tweet.append(tokenized_tweet if tokenized_tweet else [[],[],[]])\n",
        "  # all_tokenized_tweet.append([tk.strip() for tk in tokenized_tweet if len(tk.strip())>1])\n",
        "temp = pd.DataFrame(all_tokenized_tweet, columns=['text', 'stem', 'lemma'], index=df.index).applymap(' '.join)\n",
        "tokens = pd.concat([df, temp], axis=1)[['tweet', 'text', 'stem', 'lemma', 'sentiment']]\n",
        "tokens.head()"
      ],
      "metadata": {
        "id": "pID0eWJjywu-",
        "colab": {
          "base_uri": "https://localhost:8080/",
          "height": 334,
          "referenced_widgets": [
            "74b90c49dd724004a9c217ff65da02f9",
            "6275c87bdb7048f89992c7628d4ff71b",
            "cc031de90dc642678253c164f5699909",
            "839609d2458743e2aace4a2b1f35d38f",
            "ce364fd2d6bb4486a24cc821960db395",
            "3fed01e2ed124b28995fa23de041d62c",
            "9c770f406049461e86ebdc7e77dd11ef",
            "e91f352fdb7f4f5daefa26aab3e0a17e",
            "c648426d1e344f63b77d6113db90e899",
            "08c3c9229bce48068249f3b62d89f26f",
            "2759e62a7b3f4902a23f32222e097d8f"
          ]
        },
        "outputId": "24e74c72-6e3f-4c13-8016-d3de88c29832"
      },
      "execution_count": null,
      "outputs": [
        {
          "output_type": "display_data",
          "data": {
            "text/plain": [
              "  0%|          | 0/16000 [00:00<?, ?it/s]"
            ],
            "application/vnd.jupyter.widget-view+json": {
              "version_major": 2,
              "version_minor": 0,
              "model_id": "74b90c49dd724004a9c217ff65da02f9"
            }
          },
          "metadata": {}
        },
        {
          "output_type": "execute_result",
          "data": {
            "text/plain": [
              "                                                    tweet  \\\n",
              "158171  oh god whits pissed n shes drivin, in the rain...   \n",
              "480078                    driving back from myrtle beach    \n",
              "258275  Saying byebye to AM's Refuge and Extension  wi...   \n",
              "20237   @SarahSaner Did you she fell of her horse agai...   \n",
              "354111                        @SalioElSol08  save me any.   \n",
              "\n",
              "                                                     text  \\\n",
              "158171     oh god whits pissed drivin rain heelllpppp lol   \n",
              "480078                               driving myrtle beach   \n",
              "258275  saying byebye refuge extension great concert k...   \n",
              "20237   fell horse amp landed hospital apparently paps...   \n",
              "354111                                               save   \n",
              "\n",
              "                                                     stem  \\\n",
              "158171        oh god whit piss drivin rain heelllpppp lol   \n",
              "480078                                  drive myrtl beach   \n",
              "258275  say byeby refug extens great concert kyle joaquin   \n",
              "20237     fell hors amp land hospit appar pap startl hors   \n",
              "354111                                               save   \n",
              "\n",
              "                                                    lemma  sentiment  \n",
              "158171       oh god whits piss drivin rain heelllpppp lol          0  \n",
              "480078                                 drive myrtle beach          0  \n",
              "258275  say byebye refuge extension great concert kyle...          0  \n",
              "20237   fall horse amp land hospital apparently pap st...          0  \n",
              "354111                                               save          0  "
            ],
            "text/html": [
              "\n",
              "  <div id=\"df-05cce5bb-68ac-4d57-a487-34161ccb1031\">\n",
              "    <div class=\"colab-df-container\">\n",
              "      <div>\n",
              "<style scoped>\n",
              "    .dataframe tbody tr th:only-of-type {\n",
              "        vertical-align: middle;\n",
              "    }\n",
              "\n",
              "    .dataframe tbody tr th {\n",
              "        vertical-align: top;\n",
              "    }\n",
              "\n",
              "    .dataframe thead th {\n",
              "        text-align: right;\n",
              "    }\n",
              "</style>\n",
              "<table border=\"1\" class=\"dataframe\">\n",
              "  <thead>\n",
              "    <tr style=\"text-align: right;\">\n",
              "      <th></th>\n",
              "      <th>tweet</th>\n",
              "      <th>text</th>\n",
              "      <th>stem</th>\n",
              "      <th>lemma</th>\n",
              "      <th>sentiment</th>\n",
              "    </tr>\n",
              "  </thead>\n",
              "  <tbody>\n",
              "    <tr>\n",
              "      <th>158171</th>\n",
              "      <td>oh god whits pissed n shes drivin, in the rain...</td>\n",
              "      <td>oh god whits pissed drivin rain heelllpppp lol</td>\n",
              "      <td>oh god whit piss drivin rain heelllpppp lol</td>\n",
              "      <td>oh god whits piss drivin rain heelllpppp lol</td>\n",
              "      <td>0</td>\n",
              "    </tr>\n",
              "    <tr>\n",
              "      <th>480078</th>\n",
              "      <td>driving back from myrtle beach</td>\n",
              "      <td>driving myrtle beach</td>\n",
              "      <td>drive myrtl beach</td>\n",
              "      <td>drive myrtle beach</td>\n",
              "      <td>0</td>\n",
              "    </tr>\n",
              "    <tr>\n",
              "      <th>258275</th>\n",
              "      <td>Saying byebye to AM's Refuge and Extension  wi...</td>\n",
              "      <td>saying byebye refuge extension great concert k...</td>\n",
              "      <td>say byeby refug extens great concert kyle joaquin</td>\n",
              "      <td>say byebye refuge extension great concert kyle...</td>\n",
              "      <td>0</td>\n",
              "    </tr>\n",
              "    <tr>\n",
              "      <th>20237</th>\n",
              "      <td>@SarahSaner Did you she fell of her horse agai...</td>\n",
              "      <td>fell horse amp landed hospital apparently paps...</td>\n",
              "      <td>fell hors amp land hospit appar pap startl hors</td>\n",
              "      <td>fall horse amp land hospital apparently pap st...</td>\n",
              "      <td>0</td>\n",
              "    </tr>\n",
              "    <tr>\n",
              "      <th>354111</th>\n",
              "      <td>@SalioElSol08  save me any.</td>\n",
              "      <td>save</td>\n",
              "      <td>save</td>\n",
              "      <td>save</td>\n",
              "      <td>0</td>\n",
              "    </tr>\n",
              "  </tbody>\n",
              "</table>\n",
              "</div>\n",
              "      <button class=\"colab-df-convert\" onclick=\"convertToInteractive('df-05cce5bb-68ac-4d57-a487-34161ccb1031')\"\n",
              "              title=\"Convert this dataframe to an interactive table.\"\n",
              "              style=\"display:none;\">\n",
              "        \n",
              "  <svg xmlns=\"http://www.w3.org/2000/svg\" height=\"24px\"viewBox=\"0 0 24 24\"\n",
              "       width=\"24px\">\n",
              "    <path d=\"M0 0h24v24H0V0z\" fill=\"none\"/>\n",
              "    <path d=\"M18.56 5.44l.94 2.06.94-2.06 2.06-.94-2.06-.94-.94-2.06-.94 2.06-2.06.94zm-11 1L8.5 8.5l.94-2.06 2.06-.94-2.06-.94L8.5 2.5l-.94 2.06-2.06.94zm10 10l.94 2.06.94-2.06 2.06-.94-2.06-.94-.94-2.06-.94 2.06-2.06.94z\"/><path d=\"M17.41 7.96l-1.37-1.37c-.4-.4-.92-.59-1.43-.59-.52 0-1.04.2-1.43.59L10.3 9.45l-7.72 7.72c-.78.78-.78 2.05 0 2.83L4 21.41c.39.39.9.59 1.41.59.51 0 1.02-.2 1.41-.59l7.78-7.78 2.81-2.81c.8-.78.8-2.07 0-2.86zM5.41 20L4 18.59l7.72-7.72 1.47 1.35L5.41 20z\"/>\n",
              "  </svg>\n",
              "      </button>\n",
              "      \n",
              "  <style>\n",
              "    .colab-df-container {\n",
              "      display:flex;\n",
              "      flex-wrap:wrap;\n",
              "      gap: 12px;\n",
              "    }\n",
              "\n",
              "    .colab-df-convert {\n",
              "      background-color: #E8F0FE;\n",
              "      border: none;\n",
              "      border-radius: 50%;\n",
              "      cursor: pointer;\n",
              "      display: none;\n",
              "      fill: #1967D2;\n",
              "      height: 32px;\n",
              "      padding: 0 0 0 0;\n",
              "      width: 32px;\n",
              "    }\n",
              "\n",
              "    .colab-df-convert:hover {\n",
              "      background-color: #E2EBFA;\n",
              "      box-shadow: 0px 1px 2px rgba(60, 64, 67, 0.3), 0px 1px 3px 1px rgba(60, 64, 67, 0.15);\n",
              "      fill: #174EA6;\n",
              "    }\n",
              "\n",
              "    [theme=dark] .colab-df-convert {\n",
              "      background-color: #3B4455;\n",
              "      fill: #D2E3FC;\n",
              "    }\n",
              "\n",
              "    [theme=dark] .colab-df-convert:hover {\n",
              "      background-color: #434B5C;\n",
              "      box-shadow: 0px 1px 3px 1px rgba(0, 0, 0, 0.15);\n",
              "      filter: drop-shadow(0px 1px 2px rgba(0, 0, 0, 0.3));\n",
              "      fill: #FFFFFF;\n",
              "    }\n",
              "  </style>\n",
              "\n",
              "      <script>\n",
              "        const buttonEl =\n",
              "          document.querySelector('#df-05cce5bb-68ac-4d57-a487-34161ccb1031 button.colab-df-convert');\n",
              "        buttonEl.style.display =\n",
              "          google.colab.kernel.accessAllowed ? 'block' : 'none';\n",
              "\n",
              "        async function convertToInteractive(key) {\n",
              "          const element = document.querySelector('#df-05cce5bb-68ac-4d57-a487-34161ccb1031');\n",
              "          const dataTable =\n",
              "            await google.colab.kernel.invokeFunction('convertToInteractive',\n",
              "                                                     [key], {});\n",
              "          if (!dataTable) return;\n",
              "\n",
              "          const docLinkHtml = 'Like what you see? Visit the ' +\n",
              "            '<a target=\"_blank\" href=https://colab.research.google.com/notebooks/data_table.ipynb>data table notebook</a>'\n",
              "            + ' to learn more about interactive tables.';\n",
              "          element.innerHTML = '';\n",
              "          dataTable['output_type'] = 'display_data';\n",
              "          await google.colab.output.renderOutput(dataTable, element);\n",
              "          const docLink = document.createElement('div');\n",
              "          docLink.innerHTML = docLinkHtml;\n",
              "          element.appendChild(docLink);\n",
              "        }\n",
              "      </script>\n",
              "    </div>\n",
              "  </div>\n",
              "  "
            ]
          },
          "metadata": {},
          "execution_count": 46
        }
      ]
    },
    {
      "cell_type": "code",
      "execution_count": null,
      "metadata": {
        "id": "3nI6grSH-pLK"
      },
      "outputs": [],
      "source": [
        "x_train, x_test, y_train, y_test = train_test_split(tokens[['text', 'stem', 'lemma']], tokens.sentiment, train_size=8000, test_size=4000, random_state=0, stratify=tokens.sentiment)\n",
        "x_val, x_test, y_val, y_test = train_test_split(x_test, y_test, test_size=0.50, random_state=0, stratify=y_test)"
      ]
    },
    {
      "cell_type": "code",
      "source": [
        "#TODO: pipeline pour éviter de train la partie validation du cross pour dic, bag, freq\n",
        "\n",
        "x_cv = pd.concat([x_train.lemma, x_val.lemma]).apply(' '.join)\n",
        "y_cv = pd.concat([y_train, y_val])\n",
        "\n",
        "def Tuned_hyperparameters(x, y, live=False, verbose=False):\n",
        "  simple_model =  Pipeline(steps=[\n",
        "      ('vect', TfidfVectorizer()),\n",
        "      ('clf',LogisticRegression(solver='saga', penalty='elasticnet', max_iter=800, random_state=0, n_jobs=-1))\n",
        "  ])\n",
        "\n",
        "  Tuned_hyperparameters=True\n",
        "  if (Tuned_hyperparameters):\n",
        "    # grid={'C':np.logspace(-3,3,7), 'l1_ratio':[0,0.25,0.5,0.75,1]}\n",
        "    # (best parameters)  {'C': 1.0, 'l1_ratio': 0} -> accuracy : 0.707 pour 2_000\n",
        "    # grid={'C':np.logspace(-1,1,9), 'l1_ratio':np.linspace(0,0.5,5)}\n",
        "    # (best parameters)  {'C': 1.0, 'l1_ratio': 0} -> accuracy : 0.707 pour 2_000\n",
        "    grid = GridSearchCV(simple_model, {\n",
        "        'clf__C' : np.logspace(-1,1,9), \n",
        "        'clf__l1_ratio' : np.linspace(0,0.25,5)\n",
        "    },verbose=verbose).fit(x, y)\n",
        "    C, l1_ratio = grid.best_params_['clf__C'], grid.best_params_['clf__l1_ratio']\n",
        "    best_score_ = grid.best_score_\n",
        "  else:\n",
        "    C, l1_ratio, best_score_ = 1.0,  0.0625, 0.725 #pour 10_000\n",
        "  return C, l1_ratio, best_score_\n",
        "\n",
        "live=False\n",
        "if live:\n",
        "  hyperparameters = []\n",
        "  token_types = ['text', 'stem', 'lemma']\n",
        "  y_cv = pd.concat([y_train, y_val]).iloc[:50]\n",
        "  for token_type in token_types:\n",
        "    print(token_type)\n",
        "    x_cv = pd.concat([x_train[token_type], x_val[token_type]]).iloc[:50]\n",
        "    hyperparameters.append(Tuned_hyperparameters(x_cv, y_cv, live=True))\n",
        "\n",
        "  pd.DataFrame(hyperparameters, columns=['C', 'l1_ratio', 'best_score'], index=token_types).to_csv(root+'/Cache/hpyerparameters.csv')\n",
        "\n",
        "hyperparameters = pd.read_csv(root+'/Cache/hpyerparameters.csv', index_col=0)\n",
        "hyperparameters"
      ],
      "metadata": {
        "colab": {
          "base_uri": "https://localhost:8080/",
          "height": 143
        },
        "id": "yky2HKChFvH0",
        "outputId": "eba78c85-7299-4a7a-89f1-4b91555b0cd9"
      },
      "execution_count": null,
      "outputs": [
        {
          "output_type": "execute_result",
          "data": {
            "text/plain": [
              "         C  l1_ratio  best_score\n",
              "text   1.0    0.2500      0.7305\n",
              "stem   1.0    0.0625      0.7328\n",
              "lemma  1.0    0.0625      0.7254"
            ],
            "text/html": [
              "\n",
              "  <div id=\"df-971a2a94-e850-4f1d-9c61-6267fb4b6b0f\">\n",
              "    <div class=\"colab-df-container\">\n",
              "      <div>\n",
              "<style scoped>\n",
              "    .dataframe tbody tr th:only-of-type {\n",
              "        vertical-align: middle;\n",
              "    }\n",
              "\n",
              "    .dataframe tbody tr th {\n",
              "        vertical-align: top;\n",
              "    }\n",
              "\n",
              "    .dataframe thead th {\n",
              "        text-align: right;\n",
              "    }\n",
              "</style>\n",
              "<table border=\"1\" class=\"dataframe\">\n",
              "  <thead>\n",
              "    <tr style=\"text-align: right;\">\n",
              "      <th></th>\n",
              "      <th>C</th>\n",
              "      <th>l1_ratio</th>\n",
              "      <th>best_score</th>\n",
              "    </tr>\n",
              "  </thead>\n",
              "  <tbody>\n",
              "    <tr>\n",
              "      <th>text</th>\n",
              "      <td>1.0</td>\n",
              "      <td>0.2500</td>\n",
              "      <td>0.7305</td>\n",
              "    </tr>\n",
              "    <tr>\n",
              "      <th>stem</th>\n",
              "      <td>1.0</td>\n",
              "      <td>0.0625</td>\n",
              "      <td>0.7328</td>\n",
              "    </tr>\n",
              "    <tr>\n",
              "      <th>lemma</th>\n",
              "      <td>1.0</td>\n",
              "      <td>0.0625</td>\n",
              "      <td>0.7254</td>\n",
              "    </tr>\n",
              "  </tbody>\n",
              "</table>\n",
              "</div>\n",
              "      <button class=\"colab-df-convert\" onclick=\"convertToInteractive('df-971a2a94-e850-4f1d-9c61-6267fb4b6b0f')\"\n",
              "              title=\"Convert this dataframe to an interactive table.\"\n",
              "              style=\"display:none;\">\n",
              "        \n",
              "  <svg xmlns=\"http://www.w3.org/2000/svg\" height=\"24px\"viewBox=\"0 0 24 24\"\n",
              "       width=\"24px\">\n",
              "    <path d=\"M0 0h24v24H0V0z\" fill=\"none\"/>\n",
              "    <path d=\"M18.56 5.44l.94 2.06.94-2.06 2.06-.94-2.06-.94-.94-2.06-.94 2.06-2.06.94zm-11 1L8.5 8.5l.94-2.06 2.06-.94-2.06-.94L8.5 2.5l-.94 2.06-2.06.94zm10 10l.94 2.06.94-2.06 2.06-.94-2.06-.94-.94-2.06-.94 2.06-2.06.94z\"/><path d=\"M17.41 7.96l-1.37-1.37c-.4-.4-.92-.59-1.43-.59-.52 0-1.04.2-1.43.59L10.3 9.45l-7.72 7.72c-.78.78-.78 2.05 0 2.83L4 21.41c.39.39.9.59 1.41.59.51 0 1.02-.2 1.41-.59l7.78-7.78 2.81-2.81c.8-.78.8-2.07 0-2.86zM5.41 20L4 18.59l7.72-7.72 1.47 1.35L5.41 20z\"/>\n",
              "  </svg>\n",
              "      </button>\n",
              "      \n",
              "  <style>\n",
              "    .colab-df-container {\n",
              "      display:flex;\n",
              "      flex-wrap:wrap;\n",
              "      gap: 12px;\n",
              "    }\n",
              "\n",
              "    .colab-df-convert {\n",
              "      background-color: #E8F0FE;\n",
              "      border: none;\n",
              "      border-radius: 50%;\n",
              "      cursor: pointer;\n",
              "      display: none;\n",
              "      fill: #1967D2;\n",
              "      height: 32px;\n",
              "      padding: 0 0 0 0;\n",
              "      width: 32px;\n",
              "    }\n",
              "\n",
              "    .colab-df-convert:hover {\n",
              "      background-color: #E2EBFA;\n",
              "      box-shadow: 0px 1px 2px rgba(60, 64, 67, 0.3), 0px 1px 3px 1px rgba(60, 64, 67, 0.15);\n",
              "      fill: #174EA6;\n",
              "    }\n",
              "\n",
              "    [theme=dark] .colab-df-convert {\n",
              "      background-color: #3B4455;\n",
              "      fill: #D2E3FC;\n",
              "    }\n",
              "\n",
              "    [theme=dark] .colab-df-convert:hover {\n",
              "      background-color: #434B5C;\n",
              "      box-shadow: 0px 1px 3px 1px rgba(0, 0, 0, 0.15);\n",
              "      filter: drop-shadow(0px 1px 2px rgba(0, 0, 0, 0.3));\n",
              "      fill: #FFFFFF;\n",
              "    }\n",
              "  </style>\n",
              "\n",
              "      <script>\n",
              "        const buttonEl =\n",
              "          document.querySelector('#df-971a2a94-e850-4f1d-9c61-6267fb4b6b0f button.colab-df-convert');\n",
              "        buttonEl.style.display =\n",
              "          google.colab.kernel.accessAllowed ? 'block' : 'none';\n",
              "\n",
              "        async function convertToInteractive(key) {\n",
              "          const element = document.querySelector('#df-971a2a94-e850-4f1d-9c61-6267fb4b6b0f');\n",
              "          const dataTable =\n",
              "            await google.colab.kernel.invokeFunction('convertToInteractive',\n",
              "                                                     [key], {});\n",
              "          if (!dataTable) return;\n",
              "\n",
              "          const docLinkHtml = 'Like what you see? Visit the ' +\n",
              "            '<a target=\"_blank\" href=https://colab.research.google.com/notebooks/data_table.ipynb>data table notebook</a>'\n",
              "            + ' to learn more about interactive tables.';\n",
              "          element.innerHTML = '';\n",
              "          dataTable['output_type'] = 'display_data';\n",
              "          await google.colab.output.renderOutput(dataTable, element);\n",
              "          const docLink = document.createElement('div');\n",
              "          docLink.innerHTML = docLinkHtml;\n",
              "          element.appendChild(docLink);\n",
              "        }\n",
              "      </script>\n",
              "    </div>\n",
              "  </div>\n",
              "  "
            ]
          },
          "metadata": {},
          "execution_count": 48
        }
      ]
    },
    {
      "cell_type": "code",
      "source": [
        "score=[]\n",
        "token_types = ['text', 'stem', 'lemma']\n",
        "for token_type in token_types:\n",
        "  simple_model =  Pipeline(steps=[\n",
        "      ('vect', TfidfVectorizer()),\n",
        "      ('clf',LogisticRegression(solver='saga', penalty='elasticnet', max_iter=800, random_state=0, n_jobs=-1))\n",
        "  ])\n",
        "  C, l1_ratio = hyperparameters.loc[token_type].C, hyperparameters.loc[token_type].l1_ratio\n",
        "  simple_model.set_params(clf__C=C, clf__l1_ratio=l1_ratio)\n",
        "  score.append(simple_model.fit(x_train[token_type], y_train).score(x_test[token_type], y_test))\n",
        "pd.DataFrame(score, columns=['score'], index=token_types)"
      ],
      "metadata": {
        "colab": {
          "base_uri": "https://localhost:8080/",
          "height": 143
        },
        "id": "F5RE-Co8GnxB",
        "outputId": "656cdf93-9dd8-43d2-9d5b-23f687102384"
      },
      "execution_count": null,
      "outputs": [
        {
          "output_type": "execute_result",
          "data": {
            "text/plain": [
              "        score\n",
              "text   0.7245\n",
              "stem   0.7210\n",
              "lemma  0.7170"
            ],
            "text/html": [
              "\n",
              "  <div id=\"df-6aee8027-470c-4a52-8f1d-a1e8f573b6b5\">\n",
              "    <div class=\"colab-df-container\">\n",
              "      <div>\n",
              "<style scoped>\n",
              "    .dataframe tbody tr th:only-of-type {\n",
              "        vertical-align: middle;\n",
              "    }\n",
              "\n",
              "    .dataframe tbody tr th {\n",
              "        vertical-align: top;\n",
              "    }\n",
              "\n",
              "    .dataframe thead th {\n",
              "        text-align: right;\n",
              "    }\n",
              "</style>\n",
              "<table border=\"1\" class=\"dataframe\">\n",
              "  <thead>\n",
              "    <tr style=\"text-align: right;\">\n",
              "      <th></th>\n",
              "      <th>score</th>\n",
              "    </tr>\n",
              "  </thead>\n",
              "  <tbody>\n",
              "    <tr>\n",
              "      <th>text</th>\n",
              "      <td>0.7245</td>\n",
              "    </tr>\n",
              "    <tr>\n",
              "      <th>stem</th>\n",
              "      <td>0.7210</td>\n",
              "    </tr>\n",
              "    <tr>\n",
              "      <th>lemma</th>\n",
              "      <td>0.7170</td>\n",
              "    </tr>\n",
              "  </tbody>\n",
              "</table>\n",
              "</div>\n",
              "      <button class=\"colab-df-convert\" onclick=\"convertToInteractive('df-6aee8027-470c-4a52-8f1d-a1e8f573b6b5')\"\n",
              "              title=\"Convert this dataframe to an interactive table.\"\n",
              "              style=\"display:none;\">\n",
              "        \n",
              "  <svg xmlns=\"http://www.w3.org/2000/svg\" height=\"24px\"viewBox=\"0 0 24 24\"\n",
              "       width=\"24px\">\n",
              "    <path d=\"M0 0h24v24H0V0z\" fill=\"none\"/>\n",
              "    <path d=\"M18.56 5.44l.94 2.06.94-2.06 2.06-.94-2.06-.94-.94-2.06-.94 2.06-2.06.94zm-11 1L8.5 8.5l.94-2.06 2.06-.94-2.06-.94L8.5 2.5l-.94 2.06-2.06.94zm10 10l.94 2.06.94-2.06 2.06-.94-2.06-.94-.94-2.06-.94 2.06-2.06.94z\"/><path d=\"M17.41 7.96l-1.37-1.37c-.4-.4-.92-.59-1.43-.59-.52 0-1.04.2-1.43.59L10.3 9.45l-7.72 7.72c-.78.78-.78 2.05 0 2.83L4 21.41c.39.39.9.59 1.41.59.51 0 1.02-.2 1.41-.59l7.78-7.78 2.81-2.81c.8-.78.8-2.07 0-2.86zM5.41 20L4 18.59l7.72-7.72 1.47 1.35L5.41 20z\"/>\n",
              "  </svg>\n",
              "      </button>\n",
              "      \n",
              "  <style>\n",
              "    .colab-df-container {\n",
              "      display:flex;\n",
              "      flex-wrap:wrap;\n",
              "      gap: 12px;\n",
              "    }\n",
              "\n",
              "    .colab-df-convert {\n",
              "      background-color: #E8F0FE;\n",
              "      border: none;\n",
              "      border-radius: 50%;\n",
              "      cursor: pointer;\n",
              "      display: none;\n",
              "      fill: #1967D2;\n",
              "      height: 32px;\n",
              "      padding: 0 0 0 0;\n",
              "      width: 32px;\n",
              "    }\n",
              "\n",
              "    .colab-df-convert:hover {\n",
              "      background-color: #E2EBFA;\n",
              "      box-shadow: 0px 1px 2px rgba(60, 64, 67, 0.3), 0px 1px 3px 1px rgba(60, 64, 67, 0.15);\n",
              "      fill: #174EA6;\n",
              "    }\n",
              "\n",
              "    [theme=dark] .colab-df-convert {\n",
              "      background-color: #3B4455;\n",
              "      fill: #D2E3FC;\n",
              "    }\n",
              "\n",
              "    [theme=dark] .colab-df-convert:hover {\n",
              "      background-color: #434B5C;\n",
              "      box-shadow: 0px 1px 3px 1px rgba(0, 0, 0, 0.15);\n",
              "      filter: drop-shadow(0px 1px 2px rgba(0, 0, 0, 0.3));\n",
              "      fill: #FFFFFF;\n",
              "    }\n",
              "  </style>\n",
              "\n",
              "      <script>\n",
              "        const buttonEl =\n",
              "          document.querySelector('#df-6aee8027-470c-4a52-8f1d-a1e8f573b6b5 button.colab-df-convert');\n",
              "        buttonEl.style.display =\n",
              "          google.colab.kernel.accessAllowed ? 'block' : 'none';\n",
              "\n",
              "        async function convertToInteractive(key) {\n",
              "          const element = document.querySelector('#df-6aee8027-470c-4a52-8f1d-a1e8f573b6b5');\n",
              "          const dataTable =\n",
              "            await google.colab.kernel.invokeFunction('convertToInteractive',\n",
              "                                                     [key], {});\n",
              "          if (!dataTable) return;\n",
              "\n",
              "          const docLinkHtml = 'Like what you see? Visit the ' +\n",
              "            '<a target=\"_blank\" href=https://colab.research.google.com/notebooks/data_table.ipynb>data table notebook</a>'\n",
              "            + ' to learn more about interactive tables.';\n",
              "          element.innerHTML = '';\n",
              "          dataTable['output_type'] = 'display_data';\n",
              "          await google.colab.output.renderOutput(dataTable, element);\n",
              "          const docLink = document.createElement('div');\n",
              "          docLink.innerHTML = docLinkHtml;\n",
              "          element.appendChild(docLink);\n",
              "        }\n",
              "      </script>\n",
              "    </div>\n",
              "  </div>\n",
              "  "
            ]
          },
          "metadata": {},
          "execution_count": 49
        }
      ]
    },
    {
      "cell_type": "code",
      "source": [
        "del df, tweet, tokenized_tweet, all_tokenized_tweet, hyperparameters, C, l1_ratio, live, nlp, score, simple_model, x_cv, y_cv, snb, temp, token_type, token_types"
      ],
      "metadata": {
        "id": "_S4iZiUy4DlP"
      },
      "execution_count": null,
      "outputs": []
    },
    {
      "cell_type": "markdown",
      "metadata": {
        "id": "0xE69PUL98fb"
      },
      "source": [
        "# modéle avancé"
      ]
    },
    {
      "cell_type": "markdown",
      "source": [
        "## pré traitrement"
      ],
      "metadata": {
        "id": "nBL4bKn7J708"
      }
    },
    {
      "cell_type": "code",
      "source": [
        "from math import ceil\n",
        "from keras.preprocessing.sequence import pad_sequences\n",
        "\n",
        "# TODO: max_input_length ne pas inclure x_test pour éviter le data leackage\n",
        "nb_token_max, nb_token_std = x_train.text.str.split().str.len().describe()[['max', 'std']].to_numpy()\n",
        "max_input_length = ceil(nb_token_max + 2*nb_token_std)\n",
        "nb_token_max, nb_token_std, max_input_length"
      ],
      "metadata": {
        "id": "3wQVKbiFB9co",
        "colab": {
          "base_uri": "https://localhost:8080/"
        },
        "outputId": "9017944e-6e75-4d1b-f524-7928b9c205b4"
      },
      "execution_count": null,
      "outputs": [
        {
          "output_type": "execute_result",
          "data": {
            "text/plain": [
              "(23.0, 3.409733462499035, 30)"
            ]
          },
          "metadata": {},
          "execution_count": 58
        }
      ]
    },
    {
      "cell_type": "code",
      "source": [
        "from tensorflow.keras.utils import to_categorical\n",
        "\n",
        "y_train_ohe = to_categorical(y_train.replace(4,1))\n",
        "y_val_ohe = to_categorical(y_val.replace(4,1))\n",
        "y_test_ohe = to_categorical(y_test.replace(4,1))\n",
        "print(y_train[:2])\n",
        "print(y_train_ohe[:2])"
      ],
      "metadata": {
        "id": "iWuic3rH3f7i",
        "colab": {
          "base_uri": "https://localhost:8080/"
        },
        "outputId": "f7cbaa7e-9811-4847-8b16-0a4513934449"
      },
      "execution_count": null,
      "outputs": [
        {
          "output_type": "stream",
          "name": "stdout",
          "text": [
            "23410      0\n",
            "1472108    4\n",
            "Name: sentiment, dtype: int64\n",
            "[[1. 0.]\n",
            " [0. 1.]]\n"
          ]
        }
      ]
    },
    {
      "cell_type": "markdown",
      "source": [
        "## modéle"
      ],
      "metadata": {
        "id": "sYLaRK6TKPpZ"
      }
    },
    {
      "cell_type": "code",
      "source": [
        "# https://gombru.github.io/2018/05/23/cross_entropy_loss/\n",
        "# https://glassboxmedicine.com/2019/05/26/classification-sigmoid-vs-softmax/\n",
        "# https://stackoverflow.com/questions/47034888/how-to-choose-cross-entropy-loss-in-tensorflow/47034889#47034889\n",
        "# softmax : class mutually exclusive (somme des proba=1)\n",
        "# sigmoid : class not mutually exclusive (somme des proba!=1)\n",
        "# https://stats.stackexchange.com/questions/260505/should-i-use-a-categorical-cross-entropy-or-binary-cross-entropy-loss-for-binary\n",
        "# Binary classification: two exclusive classes => binary cross entropy\n",
        "# Multi-class classification: more than two exclusive classes => categorical cross entropy\n",
        "# Multi-label classification: just non-exclusive classes => binary cross entropy\n",
        "\n",
        "def make_model(max_input_length, vocabulary, embedding_matrix):\n",
        "  assert len(vocabulary)+2 == embedding_matrix.shape[0]\n",
        "\n",
        "  k_model = Sequential()\n",
        "  k_model.add(InputLayer(input_shape=(1,), dtype=tf.string))\n",
        "  k_model.add(TextVectorization(output_sequence_length=max_input_length, vocabulary=vocabulary, standardize=None))\n",
        "  # k_model.add(InputLayer(input_shape=(max_input_length,), dtype=tf.string))\n",
        "  # k_model.add(StringLookup(vocabulary=vocabulary))\n",
        "  k_model.add(Embedding(embedding_matrix.shape[0], embedding_matrix.shape[1], weights=[embedding_matrix], input_length=max_input_length, trainable=True))\n",
        "  k_model.add(GlobalAveragePooling1D())\n",
        "  k_model.add(Dense(32, activation='relu'))\n",
        "  k_model.add(Dropout(0.2))\n",
        "  k_model.add(Dense(2, activation='softmax')) #sigmoid/softmax\n",
        "\n",
        "  k_model.compile(loss='categorical_crossentropy', optimizer='adam', metrics=['accuracy']) #metrics=[kmetrics.AUC()])\n",
        "  k_model.build((None, 1))\n",
        "  return k_model"
      ],
      "metadata": {
        "id": "qIgHD6RyKuZK"
      },
      "execution_count": null,
      "outputs": []
    },
    {
      "cell_type": "code",
      "source": [
        "def make_embedding_matrix(wv):\n",
        "  return np.append(\n",
        "      np.zeros((2, len(wv[0]))),\n",
        "      wv.vectors,\n",
        "      axis=0\n",
        "  )"
      ],
      "metadata": {
        "id": "71v9T6s_AyYl"
      },
      "execution_count": null,
      "outputs": []
    },
    {
      "cell_type": "code",
      "source": [
        "def make_vocabulary(vw):\n",
        "  return vw.index_to_key"
      ],
      "metadata": {
        "id": "Rk1jabyJCGPl"
      },
      "execution_count": null,
      "outputs": []
    },
    {
      "cell_type": "code",
      "source": [
        "from os import path\n",
        "from tensorflow.keras.callbacks import ModelCheckpoint, EarlyStopping\n",
        "\n",
        "def fit_model(model, x_train, y_train, x_val, y_val, cache=None):\n",
        "  assert cache is not None\n",
        "  if path.isfile(cache):\n",
        "    print('load')\n",
        "    model.load_weights(cache)\n",
        "  else:\n",
        "    save_model = ModelCheckpoint(\n",
        "      filepath=cache, save_weights_only=True, monitor='val_accuracy',\n",
        "      mode='max', save_best_only=True, verbose=1)\n",
        "    early_stopping = EarlyStopping(\n",
        "      monitor='val_accuracy', patience=5, verbose=0, mode='max')\n",
        "    # rop = ReduceLROnPlateau(monitor='acc', factor=0.1, patience=3, verbose=1, epsilon=1e-4, mode='max')\n",
        "    callbacks = [save_model, early_stopping]\n",
        "    # callbacks = [early_stopping, rop]\n",
        "    history = model.fit(\n",
        "      x_train, y_train, epochs  = 50, verbose = True, batch_size = 128, \n",
        "      validation_data = (x_val, y_val), callbacks = callbacks)"
      ],
      "metadata": {
        "id": "8Za8L7Zai-qR"
      },
      "execution_count": null,
      "outputs": []
    },
    {
      "cell_type": "markdown",
      "source": [
        "## test"
      ],
      "metadata": {
        "id": "m4QwMPzww351"
      }
    },
    {
      "cell_type": "code",
      "source": [
        "def model_accuracy(model, x_train, y_train, x_test, y_test):\n",
        "  print(\"Training Accuracy: {:.4f}\".format(model.evaluate(x_train, y_train_ohe)[1]))\n",
        "  print(\"Testing Accuracy:  {:.4f}\".format(model.evaluate(x_test, y_test_ohe)[1]))"
      ],
      "metadata": {
        "id": "Q7FSzOMQw5XA"
      },
      "execution_count": null,
      "outputs": []
    },
    {
      "cell_type": "code",
      "source": [
        "def model_auc(model, x_test, y_test):\n",
        "  y_pred_proba = model.predict(x_test)\n",
        "\n",
        "  auc = roc_auc_score(y_test,y_pred_proba)\n",
        "  print(\"auc : \", auc)\n",
        "\n",
        "  y_pred = np.where(y_pred_proba>0.5,1,0)\n",
        "  accuracy = accuracy_score(y_test,y_pred)\n",
        "  print(\"accuracy : \", accuracy)\n",
        "\n",
        "  [fpr, tpr, thr] = roc_curve(y_test[:,0], y_pred_proba[:,0])\n",
        "  plt.plot([0,1], [0,1], linestyle='--', label='No Skill')\n",
        "  plt.plot(fpr, tpr, color='coral', lw=2, label='NN')\n",
        "  plt.xlim([0.0, 1.0])\n",
        "  plt.ylim([0.0, 1.05])\n",
        "  plt.title(\"Receiver Operating Characteristic\")\n",
        "  plt.xlabel('Taux faux positifs', fontsize=14)\n",
        "  plt.ylabel('Taux vrais positifs', fontsize=14)\n",
        "  plt.legend()"
      ],
      "metadata": {
        "id": "YPUGGT7dzQxG"
      },
      "execution_count": null,
      "outputs": []
    },
    {
      "cell_type": "markdown",
      "source": [
        "## vérification"
      ],
      "metadata": {
        "id": "UlJWAmUTlISU"
      }
    },
    {
      "cell_type": "code",
      "source": [
        "cpu=multiprocessing.cpu_count()\n",
        "wv = Word2Vec(sentences=x_train.text.str.split(), vector_size=300, window=5, min_count=1, batch_words=100, workers=cpu).wv"
      ],
      "metadata": {
        "id": "fdLcy51Zlls4"
      },
      "execution_count": null,
      "outputs": []
    },
    {
      "cell_type": "code",
      "source": [
        "print(x_train.text.iloc[:2].to_list())\n",
        "vocabulary = make_vocabulary(wv)\n",
        "layer = TextVectorization(output_sequence_length=max_input_length, vocabulary=vocabulary, standardize=None)\n",
        "[' '.join([vocabulary[index-2] for index in raw if index >= 2]) for raw in layer(x_train.text.iloc[:2].to_numpy())]"
      ],
      "metadata": {
        "colab": {
          "base_uri": "https://localhost:8080/"
        },
        "id": "iMLhAPb9lPfy",
        "outputId": "70535fdc-c9f0-442e-d681-5c64ba8eb89d"
      },
      "execution_count": null,
      "outputs": [
        {
          "output_type": "stream",
          "name": "stdout",
          "text": [
            "['yeah annoying times', 'try smiling smile makes happy hope']\n"
          ]
        },
        {
          "output_type": "execute_result",
          "data": {
            "text/plain": [
              "['yeah annoying times', 'try smiling smile makes happy hope']"
            ]
          },
          "metadata": {},
          "execution_count": 67
        }
      ]
    },
    {
      "cell_type": "code",
      "source": [
        "print(x_train.text.iloc[0])\n",
        "input = x_train.text.iloc[:1].to_numpy()\n",
        "\n",
        "vocabulary = make_vocabulary(wv)\n",
        "embedding_matrix = make_embedding_matrix(wv)\n",
        "\n",
        "output = TextVectorization(output_sequence_length=max_input_length, vocabulary=vocabulary, standardize=None)(input)\n",
        "output = Embedding(embedding_matrix.shape[0], embedding_matrix.shape[1], weights=[embedding_matrix], input_length=max_input_length, trainable=True)(output)\n",
        "print(' '.join([wv.most_similar(np.array([output[0][i]]), topn=1)[0][0] for i in [0,1,2]]))"
      ],
      "metadata": {
        "colab": {
          "base_uri": "https://localhost:8080/"
        },
        "id": "UyMDEd6FlaUd",
        "outputId": "b476b90a-4e45-45af-b400-f5346b664ccd"
      },
      "execution_count": null,
      "outputs": [
        {
          "output_type": "stream",
          "name": "stdout",
          "text": [
            "yeah annoying times\n",
            "yeah annoying times\n"
          ]
        }
      ]
    },
    {
      "cell_type": "code",
      "source": [
        "del cpu, wv, vocabulary, embedding_matrix, layer, input, output"
      ],
      "metadata": {
        "id": "5j-Vnhze7Y8R"
      },
      "execution_count": null,
      "outputs": []
    },
    {
      "cell_type": "markdown",
      "source": [
        "## text, stem, lemma"
      ],
      "metadata": {
        "id": "wUSqzWXIY9CS"
      }
    },
    {
      "cell_type": "markdown",
      "metadata": {
        "id": "hBHnUXub-b1g"
      },
      "source": [
        "## word2vec Vs Glove Vs fastText"
      ]
    },
    {
      "cell_type": "markdown",
      "source": [
        "### trained word2vec"
      ],
      "metadata": {
        "id": "qzv-4pUGJd2O"
      }
    },
    {
      "cell_type": "code",
      "execution_count": null,
      "metadata": {
        "id": "NKgjvX3QcaIv",
        "colab": {
          "base_uri": "https://localhost:8080/"
        },
        "outputId": "c2873acd-d4f2-4a7c-f85c-de402431c410"
      },
      "outputs": [
        {
          "output_type": "stream",
          "name": "stdout",
          "text": [
            "Model: \"sequential\"\n",
            "_________________________________________________________________\n",
            " Layer (type)                Output Shape              Param #   \n",
            "=================================================================\n",
            " text_vectorization_2 (TextV  (None, 30)               0         \n",
            " ectorization)                                                   \n",
            "                                                                 \n",
            " embedding_1 (Embedding)     (None, 30, 300)           3543600   \n",
            "                                                                 \n",
            " global_average_pooling1d (G  (None, 300)              0         \n",
            " lobalAveragePooling1D)                                          \n",
            "                                                                 \n",
            " dense (Dense)               (None, 32)                9632      \n",
            "                                                                 \n",
            " dropout (Dropout)           (None, 32)                0         \n",
            "                                                                 \n",
            " dense_1 (Dense)             (None, 2)                 66        \n",
            "                                                                 \n",
            "=================================================================\n",
            "Total params: 3,553,298\n",
            "Trainable params: 3,553,298\n",
            "Non-trainable params: 0\n",
            "_________________________________________________________________\n",
            "None\n"
          ]
        }
      ],
      "source": [
        "cpu=multiprocessing.cpu_count()\n",
        "wv = Word2Vec(sentences=x_train.text.str.split(), vector_size=300, window=5, min_count=1, batch_words=100, workers=cpu).wv\n",
        "w2v_trained = make_model(max_input_length, make_vocabulary(wv), make_embedding_matrix(wv))\n",
        "print(w2v_trained.summary())"
      ]
    },
    {
      "cell_type": "code",
      "source": [
        "fit_model(w2v_trained, x_train.text.to_numpy(), y_train_ohe, x_val.text.to_numpy(), y_val_ohe, cache=root+'/Cache/model_w2v_trained.h5')\n",
        "w2v_trained.load_weights(root+'/Cache/model_w2v_trained.h5')"
      ],
      "metadata": {
        "colab": {
          "base_uri": "https://localhost:8080/"
        },
        "id": "5xFaKtjms6Cb",
        "outputId": "91a81c07-7d2c-4f06-9f35-390442df70cc"
      },
      "execution_count": null,
      "outputs": [
        {
          "output_type": "stream",
          "name": "stdout",
          "text": [
            "load\n"
          ]
        }
      ]
    },
    {
      "cell_type": "code",
      "source": [
        "model_accuracy(w2v_trained, x_train.text.to_numpy(), y_train_ohe, x_test.text.to_numpy(), y_test_ohe)"
      ],
      "metadata": {
        "colab": {
          "base_uri": "https://localhost:8080/"
        },
        "id": "qILgS-U5ny8g",
        "outputId": "ea702a97-9857-49d9-c6a4-39b7ce6092d5"
      },
      "execution_count": null,
      "outputs": [
        {
          "output_type": "stream",
          "name": "stdout",
          "text": [
            "250/250 [==============================] - 8s 30ms/step - loss: 0.2433 - accuracy: 0.9175\n",
            "Training Accuracy: 0.9175\n",
            "63/63 [==============================] - 2s 21ms/step - loss: 0.6004 - accuracy: 0.7215\n",
            "Testing Accuracy:  0.7215\n"
          ]
        }
      ]
    },
    {
      "cell_type": "code",
      "source": [
        "model_auc(w2v_trained, x_test.text.to_numpy(), y_test_ohe)"
      ],
      "metadata": {
        "id": "gcfly8RjPHA9",
        "colab": {
          "base_uri": "https://localhost:8080/",
          "height": 334
        },
        "outputId": "c4a9da1e-a322-4136-d33c-835672220474"
      },
      "execution_count": null,
      "outputs": [
        {
          "output_type": "stream",
          "name": "stdout",
          "text": [
            "auc :  0.782485\n",
            "accuracy :  0.7215\n"
          ]
        },
        {
          "output_type": "display_data",
          "data": {
            "text/plain": [
              "<Figure size 432x288 with 1 Axes>"
            ],
            "image/png": "[encoded data removed]"
          },
          "metadata": {
            "needs_background": "light"
          }
        }
      ]
    },
    {
      "cell_type": "code",
      "source": [
        "del cpu, nb_token_max, nb_token_std, w2v_trained, wv"
      ],
      "metadata": {
        "id": "ivj6Fhgj79rq"
      },
      "execution_count": null,
      "outputs": []
    },
    {
      "cell_type": "markdown",
      "source": [
        "## réseau de neurones avec couche d'embeding sans (plongement / word2vec) en initiant avec des poids aléatoire"
      ],
      "metadata": {
        "id": "tpSyTsRUd0zE"
      }
    },
    {
      "cell_type": "markdown",
      "source": [
        "### pre-trained word2vec"
      ],
      "metadata": {
        "id": "Ihuz_yDV1Lww"
      }
    },
    {
      "cell_type": "markdown",
      "source": [
        "fitrer dés les fichiers csv pour alléger en mémoire"
      ],
      "metadata": {
        "id": "eALmidupZmN6"
      }
    },
    {
      "cell_type": "code",
      "source": [
        "# gc.collect()\n",
        "# import gensim.downloader as api\n",
        "# model = api.load(\"word2vec-google-news-300\")\n",
        "# model.save_word2vec_format(root+'/Downloads/word2vec-google-news-300.w2v.bin', binary=True)"
      ],
      "metadata": {
        "colab": {
          "base_uri": "https://localhost:8080/"
        },
        "id": "irJ6JZ08JvMZ",
        "outputId": "c95b0c74-f2a8-40a7-8398-085ea04f6bf3"
      },
      "execution_count": null,
      "outputs": [
        {
          "output_type": "stream",
          "name": "stdout",
          "text": [
            "[==================================================] 100.0% 1662.8/1662.8MB downloaded\n"
          ]
        }
      ]
    },
    {
      "cell_type": "code",
      "execution_count": null,
      "metadata": {
        "id": "53hGEfZk1Lww"
      },
      "outputs": [],
      "source": [
        "# https://github.com/RaRe-Technologies/gensim-data \n",
        "# \"word2vec-google-news-300\" save with\n",
        "# préférer tweeter au lieu de google news\n",
        "gc.collect()\n",
        "wv = KeyedVectors.load_word2vec_format(root+'/Downloads/word2vec-google-news-300.w2v.bin', binary=True, unicode_errors='ignore')\n",
        "w2v_pre_trained = make_model(max_input_length, make_vocabulary(wv), make_embedding_matrix(wv))\n",
        "print(w2v_trained.summary())"
      ]
    },
    {
      "cell_type": "code",
      "source": [
        "fit_model(w2v_trained, x_train.text.to_numpy(), y_train_ohe, x_val.text.to_numpy(), y_val_ohe, cache=root+'/Cache/model_w2v_trained.h5')\n",
        "w2v_trained.load_weights(root+'/Cache/model_w2v_trained.h5')"
      ],
      "metadata": {
        "id": "4ihFYOTe1Lwx"
      },
      "execution_count": null,
      "outputs": []
    },
    {
      "cell_type": "code",
      "source": [
        "model_accuracy(w2v_trained, x_train.text.to_numpy(), y_train_ohe, x_test.text.to_numpy(), y_test_ohe)"
      ],
      "metadata": {
        "id": "pVyh6_lj1Lwx"
      },
      "execution_count": null,
      "outputs": []
    },
    {
      "cell_type": "code",
      "source": [
        "model_auc(w2v_trained, x_test.text.to_numpy(), y_test_ohe)"
      ],
      "metadata": {
        "id": "sWJL9iCF1Lwy"
      },
      "execution_count": null,
      "outputs": []
    },
    {
      "cell_type": "markdown",
      "source": [
        "#### trained binary"
      ],
      "metadata": {
        "id": "Yqkm9Hws1Lwy"
      }
    },
    {
      "cell_type": "markdown",
      "metadata": {
        "id": "t1w1YQGJcXg0"
      },
      "source": [
        "### Glove"
      ]
    },
    {
      "cell_type": "markdown",
      "source": [
        "#### pretrained"
      ],
      "metadata": {
        "id": "46zVaa8kV092"
      }
    },
    {
      "cell_type": "code",
      "source": [
        ""
      ],
      "metadata": {
        "id": "iixKYGawWJLo"
      },
      "execution_count": null,
      "outputs": []
    },
    {
      "cell_type": "markdown",
      "source": [
        "#### trained"
      ],
      "metadata": {
        "id": "h6mWAw0FWAjt"
      }
    },
    {
      "cell_type": "markdown",
      "source": [
        "## LSTM"
      ],
      "metadata": {
        "id": "dDWuZ0bgeZWj"
      }
    },
    {
      "cell_type": "markdown",
      "source": [
        "## Bert"
      ],
      "metadata": {
        "id": "xfD0D_Q6aHM5"
      }
    },
    {
      "cell_type": "markdown",
      "source": [
        "hugging face, transformer, refit sur les données du datasets"
      ],
      "metadata": {
        "id": "z6TckpB2aJqV"
      }
    },
    {
      "cell_type": "markdown",
      "source": [
        "## deploiement"
      ],
      "metadata": {
        "id": "kxCZiHc0aeYs"
      }
    },
    {
      "cell_type": "markdown",
      "source": [
        "flask | fast API -> cloud limite (ram, carte graphique) des service gratuits ou regression logistique (heroku) pour contrainte technique ou azure|aws(serveless))"
      ],
      "metadata": {
        "id": "orSjSEm1ahPE"
      }
    },
    {
      "cell_type": "markdown",
      "source": [
        "critére (rapidité de mise en oeuvre, entretien, temps d'écution)"
      ],
      "metadata": {
        "id": "fJxby_2QbxPq"
      }
    },
    {
      "cell_type": "markdown",
      "source": [
        "## blog"
      ],
      "metadata": {
        "id": "QLlemxdLcQl2"
      }
    }
  ],
  "metadata": {
    "colab": {
      "name": "07-bad-buzz.ipynb",
      "provenance": [],
      "collapsed_sections": [
        "CpbgHYGbF0Bs"
      ],
      "mount_file_id": "1HDIU0RFlYlJqsE5NeVc4enyDpAnFtjJs",
      "authorship_tag": "ABX9TyPsHs3Guj7e0vBMefKaRmL+",
      "include_colab_link": true
    },
    "gpuClass": "standard",
    "kernelspec": {
      "display_name": "Python 3",
      "name": "python3"
    },
    "language_info": {
      "name": "python"
    },
    "widgets": {
      "application/vnd.jupyter.widget-state+json": {
        "0d945b4a0d1b4774ad9e037dceb3c23c": {
          "model_module": "@jupyter-widgets/controls",
          "model_name": "HBoxModel",
          "model_module_version": "1.5.0",
          "state": {
            "_dom_classes": [],
            "_model_module": "@jupyter-widgets/controls",
            "_model_module_version": "1.5.0",
            "_model_name": "HBoxModel",
            "_view_count": null,
            "_view_module": "@jupyter-widgets/controls",
            "_view_module_version": "1.5.0",
            "_view_name": "HBoxView",
            "box_style": "",
            "children": [
              "IPY_MODEL_4ca0956f2bd44b949030066f1e239f8c",
              "IPY_MODEL_fa5e62d5a6014e5b97bc7b47de69e35b",
              "IPY_MODEL_e8febbda21c54fdd8161f28a0b6dcd83"
            ],
            "layout": "IPY_MODEL_96bcf826bdd64da180d0a88a4d11aca3"
          }
        },
        "4ca0956f2bd44b949030066f1e239f8c": {
          "model_module": "@jupyter-widgets/controls",
          "model_name": "HTMLModel",
          "model_module_version": "1.5.0",
          "state": {
            "_dom_classes": [],
            "_model_module": "@jupyter-widgets/controls",
            "_model_module_version": "1.5.0",
            "_model_name": "HTMLModel",
            "_view_count": null,
            "_view_module": "@jupyter-widgets/controls",
            "_view_module_version": "1.5.0",
            "_view_name": "HTMLView",
            "description": "",
            "description_tooltip": null,
            "layout": "IPY_MODEL_009b09220ba943798f1cd2d868681b25",
            "placeholder": "​",
            "style": "IPY_MODEL_9f856fc74156483791a51769e3e4f36f",
            "value": "100%"
          }
        },
        "fa5e62d5a6014e5b97bc7b47de69e35b": {
          "model_module": "@jupyter-widgets/controls",
          "model_name": "FloatProgressModel",
          "model_module_version": "1.5.0",
          "state": {
            "_dom_classes": [],
            "_model_module": "@jupyter-widgets/controls",
            "_model_module_version": "1.5.0",
            "_model_name": "FloatProgressModel",
            "_view_count": null,
            "_view_module": "@jupyter-widgets/controls",
            "_view_module_version": "1.5.0",
            "_view_name": "ProgressView",
            "bar_style": "success",
            "description": "",
            "description_tooltip": null,
            "layout": "IPY_MODEL_4dcda27a2200451ba7ac671ff3c356c3",
            "max": 16000,
            "min": 0,
            "orientation": "horizontal",
            "style": "IPY_MODEL_3f0d0f841eb4442a9b03d6ae1b2ea2c3",
            "value": 16000
          }
        },
        "e8febbda21c54fdd8161f28a0b6dcd83": {
          "model_module": "@jupyter-widgets/controls",
          "model_name": "HTMLModel",
          "model_module_version": "1.5.0",
          "state": {
            "_dom_classes": [],
            "_model_module": "@jupyter-widgets/controls",
            "_model_module_version": "1.5.0",
            "_model_name": "HTMLModel",
            "_view_count": null,
            "_view_module": "@jupyter-widgets/controls",
            "_view_module_version": "1.5.0",
            "_view_name": "HTMLView",
            "description": "",
            "description_tooltip": null,
            "layout": "IPY_MODEL_22212242b1f5445e994abf0d017195c5",
            "placeholder": "​",
            "style": "IPY_MODEL_deee99197a04420a939e94a3530df7e2",
            "value": " 16000/16000 [00:38&lt;00:00, 433.17it/s]"
          }
        },
        "96bcf826bdd64da180d0a88a4d11aca3": {
          "model_module": "@jupyter-widgets/base",
          "model_name": "LayoutModel",
          "model_module_version": "1.2.0",
          "state": {
            "_model_module": "@jupyter-widgets/base",
            "_model_module_version": "1.2.0",
            "_model_name": "LayoutModel",
            "_view_count": null,
            "_view_module": "@jupyter-widgets/base",
            "_view_module_version": "1.2.0",
            "_view_name": "LayoutView",
            "align_content": null,
            "align_items": null,
            "align_self": null,
            "border": null,
            "bottom": null,
            "display": null,
            "flex": null,
            "flex_flow": null,
            "grid_area": null,
            "grid_auto_columns": null,
            "grid_auto_flow": null,
            "grid_auto_rows": null,
            "grid_column": null,
            "grid_gap": null,
            "grid_row": null,
            "grid_template_areas": null,
            "grid_template_columns": null,
            "grid_template_rows": null,
            "height": null,
            "justify_content": null,
            "justify_items": null,
            "left": null,
            "margin": null,
            "max_height": null,
            "max_width": null,
            "min_height": null,
            "min_width": null,
            "object_fit": null,
            "object_position": null,
            "order": null,
            "overflow": null,
            "overflow_x": null,
            "overflow_y": null,
            "padding": null,
            "right": null,
            "top": null,
            "visibility": null,
            "width": null
          }
        },
        "009b09220ba943798f1cd2d868681b25": {
          "model_module": "@jupyter-widgets/base",
          "model_name": "LayoutModel",
          "model_module_version": "1.2.0",
          "state": {
            "_model_module": "@jupyter-widgets/base",
            "_model_module_version": "1.2.0",
            "_model_name": "LayoutModel",
            "_view_count": null,
            "_view_module": "@jupyter-widgets/base",
            "_view_module_version": "1.2.0",
            "_view_name": "LayoutView",
            "align_content": null,
            "align_items": null,
            "align_self": null,
            "border": null,
            "bottom": null,
            "display": null,
            "flex": null,
            "flex_flow": null,
            "grid_area": null,
            "grid_auto_columns": null,
            "grid_auto_flow": null,
            "grid_auto_rows": null,
            "grid_column": null,
            "grid_gap": null,
            "grid_row": null,
            "grid_template_areas": null,
            "grid_template_columns": null,
            "grid_template_rows": null,
            "height": null,
            "justify_content": null,
            "justify_items": null,
            "left": null,
            "margin": null,
            "max_height": null,
            "max_width": null,
            "min_height": null,
            "min_width": null,
            "object_fit": null,
            "object_position": null,
            "order": null,
            "overflow": null,
            "overflow_x": null,
            "overflow_y": null,
            "padding": null,
            "right": null,
            "top": null,
            "visibility": null,
            "width": null
          }
        },
        "9f856fc74156483791a51769e3e4f36f": {
          "model_module": "@jupyter-widgets/controls",
          "model_name": "DescriptionStyleModel",
          "model_module_version": "1.5.0",
          "state": {
            "_model_module": "@jupyter-widgets/controls",
            "_model_module_version": "1.5.0",
            "_model_name": "DescriptionStyleModel",
            "_view_count": null,
            "_view_module": "@jupyter-widgets/base",
            "_view_module_version": "1.2.0",
            "_view_name": "StyleView",
            "description_width": ""
          }
        },
        "4dcda27a2200451ba7ac671ff3c356c3": {
          "model_module": "@jupyter-widgets/base",
          "model_name": "LayoutModel",
          "model_module_version": "1.2.0",
          "state": {
            "_model_module": "@jupyter-widgets/base",
            "_model_module_version": "1.2.0",
            "_model_name": "LayoutModel",
            "_view_count": null,
            "_view_module": "@jupyter-widgets/base",
            "_view_module_version": "1.2.0",
            "_view_name": "LayoutView",
            "align_content": null,
            "align_items": null,
            "align_self": null,
            "border": null,
            "bottom": null,
            "display": null,
            "flex": null,
            "flex_flow": null,
            "grid_area": null,
            "grid_auto_columns": null,
            "grid_auto_flow": null,
            "grid_auto_rows": null,
            "grid_column": null,
            "grid_gap": null,
            "grid_row": null,
            "grid_template_areas": null,
            "grid_template_columns": null,
            "grid_template_rows": null,
            "height": null,
            "justify_content": null,
            "justify_items": null,
            "left": null,
            "margin": null,
            "max_height": null,
            "max_width": null,
            "min_height": null,
            "min_width": null,
            "object_fit": null,
            "object_position": null,
            "order": null,
            "overflow": null,
            "overflow_x": null,
            "overflow_y": null,
            "padding": null,
            "right": null,
            "top": null,
            "visibility": null,
            "width": null
          }
        },
        "3f0d0f841eb4442a9b03d6ae1b2ea2c3": {
          "model_module": "@jupyter-widgets/controls",
          "model_name": "ProgressStyleModel",
          "model_module_version": "1.5.0",
          "state": {
            "_model_module": "@jupyter-widgets/controls",
            "_model_module_version": "1.5.0",
            "_model_name": "ProgressStyleModel",
            "_view_count": null,
            "_view_module": "@jupyter-widgets/base",
            "_view_module_version": "1.2.0",
            "_view_name": "StyleView",
            "bar_color": null,
            "description_width": ""
          }
        },
        "22212242b1f5445e994abf0d017195c5": {
          "model_module": "@jupyter-widgets/base",
          "model_name": "LayoutModel",
          "model_module_version": "1.2.0",
          "state": {
            "_model_module": "@jupyter-widgets/base",
            "_model_module_version": "1.2.0",
            "_model_name": "LayoutModel",
            "_view_count": null,
            "_view_module": "@jupyter-widgets/base",
            "_view_module_version": "1.2.0",
            "_view_name": "LayoutView",
            "align_content": null,
            "align_items": null,
            "align_self": null,
            "border": null,
            "bottom": null,
            "display": null,
            "flex": null,
            "flex_flow": null,
            "grid_area": null,
            "grid_auto_columns": null,
            "grid_auto_flow": null,
            "grid_auto_rows": null,
            "grid_column": null,
            "grid_gap": null,
            "grid_row": null,
            "grid_template_areas": null,
            "grid_template_columns": null,
            "grid_template_rows": null,
            "height": null,
            "justify_content": null,
            "justify_items": null,
            "left": null,
            "margin": null,
            "max_height": null,
            "max_width": null,
            "min_height": null,
            "min_width": null,
            "object_fit": null,
            "object_position": null,
            "order": null,
            "overflow": null,
            "overflow_x": null,
            "overflow_y": null,
            "padding": null,
            "right": null,
            "top": null,
            "visibility": null,
            "width": null
          }
        },
        "deee99197a04420a939e94a3530df7e2": {
          "model_module": "@jupyter-widgets/controls",
          "model_name": "DescriptionStyleModel",
          "model_module_version": "1.5.0",
          "state": {
            "_model_module": "@jupyter-widgets/controls",
            "_model_module_version": "1.5.0",
            "_model_name": "DescriptionStyleModel",
            "_view_count": null,
            "_view_module": "@jupyter-widgets/base",
            "_view_module_version": "1.2.0",
            "_view_name": "StyleView",
            "description_width": ""
          }
        },
        "74b90c49dd724004a9c217ff65da02f9": {
          "model_module": "@jupyter-widgets/controls",
          "model_name": "HBoxModel",
          "model_module_version": "1.5.0",
          "state": {
            "_dom_classes": [],
            "_model_module": "@jupyter-widgets/controls",
            "_model_module_version": "1.5.0",
            "_model_name": "HBoxModel",
            "_view_count": null,
            "_view_module": "@jupyter-widgets/controls",
            "_view_module_version": "1.5.0",
            "_view_name": "HBoxView",
            "box_style": "",
            "children": [
              "IPY_MODEL_6275c87bdb7048f89992c7628d4ff71b",
              "IPY_MODEL_cc031de90dc642678253c164f5699909",
              "IPY_MODEL_839609d2458743e2aace4a2b1f35d38f"
            ],
            "layout": "IPY_MODEL_ce364fd2d6bb4486a24cc821960db395"
          }
        },
        "6275c87bdb7048f89992c7628d4ff71b": {
          "model_module": "@jupyter-widgets/controls",
          "model_name": "HTMLModel",
          "model_module_version": "1.5.0",
          "state": {
            "_dom_classes": [],
            "_model_module": "@jupyter-widgets/controls",
            "_model_module_version": "1.5.0",
            "_model_name": "HTMLModel",
            "_view_count": null,
            "_view_module": "@jupyter-widgets/controls",
            "_view_module_version": "1.5.0",
            "_view_name": "HTMLView",
            "description": "",
            "description_tooltip": null,
            "layout": "IPY_MODEL_3fed01e2ed124b28995fa23de041d62c",
            "placeholder": "​",
            "style": "IPY_MODEL_9c770f406049461e86ebdc7e77dd11ef",
            "value": "100%"
          }
        },
        "cc031de90dc642678253c164f5699909": {
          "model_module": "@jupyter-widgets/controls",
          "model_name": "FloatProgressModel",
          "model_module_version": "1.5.0",
          "state": {
            "_dom_classes": [],
            "_model_module": "@jupyter-widgets/controls",
            "_model_module_version": "1.5.0",
            "_model_name": "FloatProgressModel",
            "_view_count": null,
            "_view_module": "@jupyter-widgets/controls",
            "_view_module_version": "1.5.0",
            "_view_name": "ProgressView",
            "bar_style": "success",
            "description": "",
            "description_tooltip": null,
            "layout": "IPY_MODEL_e91f352fdb7f4f5daefa26aab3e0a17e",
            "max": 16000,
            "min": 0,
            "orientation": "horizontal",
            "style": "IPY_MODEL_c648426d1e344f63b77d6113db90e899",
            "value": 16000
          }
        },
        "839609d2458743e2aace4a2b1f35d38f": {
          "model_module": "@jupyter-widgets/controls",
          "model_name": "HTMLModel",
          "model_module_version": "1.5.0",
          "state": {
            "_dom_classes": [],
            "_model_module": "@jupyter-widgets/controls",
            "_model_module_version": "1.5.0",
            "_model_name": "HTMLModel",
            "_view_count": null,
            "_view_module": "@jupyter-widgets/controls",
            "_view_module_version": "1.5.0",
            "_view_name": "HTMLView",
            "description": "",
            "description_tooltip": null,
            "layout": "IPY_MODEL_08c3c9229bce48068249f3b62d89f26f",
            "placeholder": "​",
            "style": "IPY_MODEL_2759e62a7b3f4902a23f32222e097d8f",
            "value": " 16000/16000 [00:44&lt;00:00, 387.37it/s]"
          }
        },
        "ce364fd2d6bb4486a24cc821960db395": {
          "model_module": "@jupyter-widgets/base",
          "model_name": "LayoutModel",
          "model_module_version": "1.2.0",
          "state": {
            "_model_module": "@jupyter-widgets/base",
            "_model_module_version": "1.2.0",
            "_model_name": "LayoutModel",
            "_view_count": null,
            "_view_module": "@jupyter-widgets/base",
            "_view_module_version": "1.2.0",
            "_view_name": "LayoutView",
            "align_content": null,
            "align_items": null,
            "align_self": null,
            "border": null,
            "bottom": null,
            "display": null,
            "flex": null,
            "flex_flow": null,
            "grid_area": null,
            "grid_auto_columns": null,
            "grid_auto_flow": null,
            "grid_auto_rows": null,
            "grid_column": null,
            "grid_gap": null,
            "grid_row": null,
            "grid_template_areas": null,
            "grid_template_columns": null,
            "grid_template_rows": null,
            "height": null,
            "justify_content": null,
            "justify_items": null,
            "left": null,
            "margin": null,
            "max_height": null,
            "max_width": null,
            "min_height": null,
            "min_width": null,
            "object_fit": null,
            "object_position": null,
            "order": null,
            "overflow": null,
            "overflow_x": null,
            "overflow_y": null,
            "padding": null,
            "right": null,
            "top": null,
            "visibility": null,
            "width": null
          }
        },
        "3fed01e2ed124b28995fa23de041d62c": {
          "model_module": "@jupyter-widgets/base",
          "model_name": "LayoutModel",
          "model_module_version": "1.2.0",
          "state": {
            "_model_module": "@jupyter-widgets/base",
            "_model_module_version": "1.2.0",
            "_model_name": "LayoutModel",
            "_view_count": null,
            "_view_module": "@jupyter-widgets/base",
            "_view_module_version": "1.2.0",
            "_view_name": "LayoutView",
            "align_content": null,
            "align_items": null,
            "align_self": null,
            "border": null,
            "bottom": null,
            "display": null,
            "flex": null,
            "flex_flow": null,
            "grid_area": null,
            "grid_auto_columns": null,
            "grid_auto_flow": null,
            "grid_auto_rows": null,
            "grid_column": null,
            "grid_gap": null,
            "grid_row": null,
            "grid_template_areas": null,
            "grid_template_columns": null,
            "grid_template_rows": null,
            "height": null,
            "justify_content": null,
            "justify_items": null,
            "left": null,
            "margin": null,
            "max_height": null,
            "max_width": null,
            "min_height": null,
            "min_width": null,
            "object_fit": null,
            "object_position": null,
            "order": null,
            "overflow": null,
            "overflow_x": null,
            "overflow_y": null,
            "padding": null,
            "right": null,
            "top": null,
            "visibility": null,
            "width": null
          }
        },
        "9c770f406049461e86ebdc7e77dd11ef": {
          "model_module": "@jupyter-widgets/controls",
          "model_name": "DescriptionStyleModel",
          "model_module_version": "1.5.0",
          "state": {
            "_model_module": "@jupyter-widgets/controls",
            "_model_module_version": "1.5.0",
            "_model_name": "DescriptionStyleModel",
            "_view_count": null,
            "_view_module": "@jupyter-widgets/base",
            "_view_module_version": "1.2.0",
            "_view_name": "StyleView",
            "description_width": ""
          }
        },
        "e91f352fdb7f4f5daefa26aab3e0a17e": {
          "model_module": "@jupyter-widgets/base",
          "model_name": "LayoutModel",
          "model_module_version": "1.2.0",
          "state": {
            "_model_module": "@jupyter-widgets/base",
            "_model_module_version": "1.2.0",
            "_model_name": "LayoutModel",
            "_view_count": null,
            "_view_module": "@jupyter-widgets/base",
            "_view_module_version": "1.2.0",
            "_view_name": "LayoutView",
            "align_content": null,
            "align_items": null,
            "align_self": null,
            "border": null,
            "bottom": null,
            "display": null,
            "flex": null,
            "flex_flow": null,
            "grid_area": null,
            "grid_auto_columns": null,
            "grid_auto_flow": null,
            "grid_auto_rows": null,
            "grid_column": null,
            "grid_gap": null,
            "grid_row": null,
            "grid_template_areas": null,
            "grid_template_columns": null,
            "grid_template_rows": null,
            "height": null,
            "justify_content": null,
            "justify_items": null,
            "left": null,
            "margin": null,
            "max_height": null,
            "max_width": null,
            "min_height": null,
            "min_width": null,
            "object_fit": null,
            "object_position": null,
            "order": null,
            "overflow": null,
            "overflow_x": null,
            "overflow_y": null,
            "padding": null,
            "right": null,
            "top": null,
            "visibility": null,
            "width": null
          }
        },
        "c648426d1e344f63b77d6113db90e899": {
          "model_module": "@jupyter-widgets/controls",
          "model_name": "ProgressStyleModel",
          "model_module_version": "1.5.0",
          "state": {
            "_model_module": "@jupyter-widgets/controls",
            "_model_module_version": "1.5.0",
            "_model_name": "ProgressStyleModel",
            "_view_count": null,
            "_view_module": "@jupyter-widgets/base",
            "_view_module_version": "1.2.0",
            "_view_name": "StyleView",
            "bar_color": null,
            "description_width": ""
          }
        },
        "08c3c9229bce48068249f3b62d89f26f": {
          "model_module": "@jupyter-widgets/base",
          "model_name": "LayoutModel",
          "model_module_version": "1.2.0",
          "state": {
            "_model_module": "@jupyter-widgets/base",
            "_model_module_version": "1.2.0",
            "_model_name": "LayoutModel",
            "_view_count": null,
            "_view_module": "@jupyter-widgets/base",
            "_view_module_version": "1.2.0",
            "_view_name": "LayoutView",
            "align_content": null,
            "align_items": null,
            "align_self": null,
            "border": null,
            "bottom": null,
            "display": null,
            "flex": null,
            "flex_flow": null,
            "grid_area": null,
            "grid_auto_columns": null,
            "grid_auto_flow": null,
            "grid_auto_rows": null,
            "grid_column": null,
            "grid_gap": null,
            "grid_row": null,
            "grid_template_areas": null,
            "grid_template_columns": null,
            "grid_template_rows": null,
            "height": null,
            "justify_content": null,
            "justify_items": null,
            "left": null,
            "margin": null,
            "max_height": null,
            "max_width": null,
            "min_height": null,
            "min_width": null,
            "object_fit": null,
            "object_position": null,
            "order": null,
            "overflow": null,
            "overflow_x": null,
            "overflow_y": null,
            "padding": null,
            "right": null,
            "top": null,
            "visibility": null,
            "width": null
          }
        },
        "2759e62a7b3f4902a23f32222e097d8f": {
          "model_module": "@jupyter-widgets/controls",
          "model_name": "DescriptionStyleModel",
          "model_module_version": "1.5.0",
          "state": {
            "_model_module": "@jupyter-widgets/controls",
            "_model_module_version": "1.5.0",
            "_model_name": "DescriptionStyleModel",
            "_view_count": null,
            "_view_module": "@jupyter-widgets/base",
            "_view_module_version": "1.2.0",
            "_view_name": "StyleView",
            "description_width": ""
          }
        }
      }
    }
  },
  "nbformat": 4,
  "nbformat_minor": 0
}